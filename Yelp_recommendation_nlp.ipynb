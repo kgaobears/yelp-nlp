{
  "nbformat": 4,
  "nbformat_minor": 0,
  "metadata": {
    "colab": {
      "name": "Yelp_recommendation_nlp",
      "provenance": [],
      "collapsed_sections": [],
      "machine_shape": "hm",
      "include_colab_link": true
    },
    "kernelspec": {
      "name": "python3",
      "display_name": "Python 3"
    },
    "accelerator": "GPU"
  },
  "cells": [
    {
      "cell_type": "markdown",
      "metadata": {
        "id": "view-in-github",
        "colab_type": "text"
      },
      "source": [
        "<a href=\"https://colab.research.google.com/github/kgaobears/yelp-nlp/blob/main/Yelp_recommendation_nlp.ipynb\" target=\"_parent\"><img src=\"https://colab.research.google.com/assets/colab-badge.svg\" alt=\"Open In Colab\"/></a>"
      ]
    },
    {
      "cell_type": "markdown",
      "metadata": {
        "id": "LLjdr7xBZd-G"
      },
      "source": [
        "NLP Yelp Rating Prediction"
      ]
    },
    {
      "cell_type": "code",
      "metadata": {
        "id": "2NkqABJX0RXf"
      },
      "source": [
        "# %pip install transformers"
      ],
      "execution_count": null,
      "outputs": []
    },
    {
      "cell_type": "code",
      "metadata": {
        "id": "WjHKu4RoZ5CB",
        "outputId": "70ecc3e4-0a2e-429c-dd27-194cea16d777",
        "colab": {
          "base_uri": "https://localhost:8080/",
          "height": 85
        }
      },
      "source": [
        "import numpy as np\n",
        "import tensorflow as tf\n",
        "import tensorflow.keras as keras\n",
        "import torch\n",
        "# import transformers\n",
        "import io\n",
        "import os\n",
        "import string\n",
        "from keras.preprocessing.text import Tokenizer\n",
        "from keras.preprocessing.sequence import pad_sequences\n",
        "from keras import models\n",
        "from keras import layers\n",
        "from sklearn.model_selection import train_test_split\n",
        "from sklearn.preprocessing import LabelEncoder\n",
        "import pandas as pd\n",
        "from sklearn.utils import shuffle\n",
        "import json\n",
        "import pickle\n",
        "import matplotlib.pyplot as plt\n",
        "import nltk\n",
        "nltk.download('punkt')"
      ],
      "execution_count": null,
      "outputs": [
        {
          "output_type": "stream",
          "text": [
            "Using TensorFlow backend.\n"
          ],
          "name": "stderr"
        },
        {
          "output_type": "stream",
          "text": [
            "[nltk_data] Downloading package punkt to /root/nltk_data...\n",
            "[nltk_data]   Unzipping tokenizers/punkt.zip.\n"
          ],
          "name": "stdout"
        },
        {
          "output_type": "execute_result",
          "data": {
            "text/plain": [
              "True"
            ]
          },
          "metadata": {
            "tags": []
          },
          "execution_count": 1
        }
      ]
    },
    {
      "cell_type": "markdown",
      "metadata": {
        "id": "1cgG8yfejLqp"
      },
      "source": [
        "# How to Import Data to Google Colab\n",
        "### The Bonus Method from here: https://towardsdatascience.com/3-ways-to-load-csv-files-into-colab-7c14fcbdcb92\n",
        "In your Google Drive (“My Drive”), create a folder called data in the location of your choosing (do it in My Drive root directory). This is where you will upload your data.\n",
        "From a Colab notebook, type the following: \\\n",
        "```\n",
        "from google.colab import drive\n",
        "drive.mount('/content/drive')\n",
        "```\n",
        "Running the commands will bring you to a Google Authentication step. You should see a screen with Google Drive File Stream wants to access your Google Account. After you allow permission, copy the given verification code and paste it in the box in Colab.\n",
        "In the notebook, click on the charcoal > (for me it's the folder icon) on the top left of the notebook and click on Files. *Locate the data folder you created earlier and find your data*. Right-click on your data and select Copy Path. Store this copied path into a variable and you are ready to go."
      ]
    },
    {
      "cell_type": "code",
      "metadata": {
        "id": "zM_XJNcaE9Dr",
        "outputId": "363f9f49-9456-41fb-f018-f786ff289349",
        "colab": {
          "base_uri": "https://localhost:8080/",
          "height": 122
        }
      },
      "source": [
        "from google.colab import drive\n",
        "drive.mount('/content/drive', force_remount=True)"
      ],
      "execution_count": null,
      "outputs": [
        {
          "output_type": "stream",
          "text": [
            "Go to this URL in a browser: https://accounts.google.com/o/oauth2/auth?client_id=947318989803-6bn6qk8qdgf4n4g3pfee6491hc0brc4i.apps.googleusercontent.com&redirect_uri=urn%3aietf%3awg%3aoauth%3a2.0%3aoob&response_type=code&scope=email%20https%3a%2f%2fwww.googleapis.com%2fauth%2fdocs.test%20https%3a%2f%2fwww.googleapis.com%2fauth%2fdrive%20https%3a%2f%2fwww.googleapis.com%2fauth%2fdrive.photos.readonly%20https%3a%2f%2fwww.googleapis.com%2fauth%2fpeopleapi.readonly\n",
            "\n",
            "Enter your authorization code:\n",
            "··········\n",
            "Mounted at /content/drive\n"
          ],
          "name": "stdout"
        }
      ]
    },
    {
      "cell_type": "markdown",
      "metadata": {
        "id": "6yvaP-M4Q5L8"
      },
      "source": [
        "Clean texts in json file and save it"
      ]
    },
    {
      "cell_type": "code",
      "metadata": {
        "id": "YAEWiqEebI79"
      },
      "source": [
        "# Reference: https://thedatafrog.com/en/articles/text-preprocessing-machine-learning-yelp/\n",
        "def process_file(ifname, ofname):\n",
        "    '''tokenize data in file fname. \n",
        "    The output is written to fname_tok.json\n",
        "    '''\n",
        "    ifile = open(ifname)\n",
        "    ofile = open(ofname,'w')\n",
        "    for i, line in enumerate(ifile):\n",
        "        if i%1000 == 0:\n",
        "            print(i) \n",
        "        # convert the json on this line to a dict\n",
        "        data = json.loads(line) \n",
        "        # extract the review text\n",
        "        text = data['text']\n",
        "        # tokenize\n",
        "        words = nltk.word_tokenize(text)\n",
        "        # convert all words to lower case \n",
        "        words = [word.lower() for word in words]\n",
        "        # updating JSON and writing to output file\n",
        "        data['text'] = words\n",
        "        line = json.dumps(data)\n",
        "        ofile.write(line+'\\n')\n",
        "    ifile.close()\n",
        "    ofile.close()"
      ],
      "execution_count": null,
      "outputs": []
    },
    {
      "cell_type": "code",
      "metadata": {
        "id": "W_hLj9DBbLOZ"
      },
      "source": [
        "# Only need to run once\n",
        "# i_path = \"/content/drive/My Drive/data/yelp_review_training_dataset.jsonl\"\n",
        "# o_path = \"/content/drive/My Drive/data/cleaned_data.jsonl\"\n",
        "# process_file(i_path, o_path)"
      ],
      "execution_count": null,
      "outputs": []
    },
    {
      "cell_type": "markdown",
      "metadata": {
        "id": "Ilg8DHMUea1w"
      },
      "source": [
        "Preprocess the data\n",
        "- remove unnecessary features ('review_id')\n",
        "- clean the texts"
      ]
    },
    {
      "cell_type": "code",
      "metadata": {
        "id": "DvWd_Cthedk0"
      },
      "source": [
        "data_path = \"/content/drive/My Drive/data/cleaned_data.jsonl\"\n",
        "tweets = []\n",
        "for line in open(data_path, 'r'):\n",
        "    tweets.append(json.loads(line))"
      ],
      "execution_count": null,
      "outputs": []
    },
    {
      "cell_type": "code",
      "metadata": {
        "id": "VlufweNCeoyQ",
        "outputId": "337cb294-c67f-430e-e5bd-2dc42bf2c327",
        "colab": {
          "base_uri": "https://localhost:8080/",
          "height": 34
        }
      },
      "source": [
        "len(tweets)"
      ],
      "execution_count": null,
      "outputs": [
        {
          "output_type": "execute_result",
          "data": {
            "text/plain": [
              "533581"
            ]
          },
          "metadata": {
            "tags": []
          },
          "execution_count": 6
        }
      ]
    },
    {
      "cell_type": "code",
      "metadata": {
        "id": "HrJi6SUfuJEE"
      },
      "source": [
        "# Divide the data into train and validation sets\n",
        "df = pd.DataFrame(tweets)\n",
        "df = df.drop(columns=['review_id'])"
      ],
      "execution_count": null,
      "outputs": []
    },
    {
      "cell_type": "code",
      "metadata": {
        "id": "NSyufD5Aanmp",
        "outputId": "d7a9b6f4-7067-4a22-890e-ab527e40e2b6",
        "colab": {
          "base_uri": "https://localhost:8080/",
          "height": 204
        }
      },
      "source": [
        "df.head()"
      ],
      "execution_count": null,
      "outputs": [
        {
          "output_type": "execute_result",
          "data": {
            "text/html": [
              "<div>\n",
              "<style scoped>\n",
              "    .dataframe tbody tr th:only-of-type {\n",
              "        vertical-align: middle;\n",
              "    }\n",
              "\n",
              "    .dataframe tbody tr th {\n",
              "        vertical-align: top;\n",
              "    }\n",
              "\n",
              "    .dataframe thead th {\n",
              "        text-align: right;\n",
              "    }\n",
              "</style>\n",
              "<table border=\"1\" class=\"dataframe\">\n",
              "  <thead>\n",
              "    <tr style=\"text-align: right;\">\n",
              "      <th></th>\n",
              "      <th>text</th>\n",
              "      <th>stars</th>\n",
              "    </tr>\n",
              "  </thead>\n",
              "  <tbody>\n",
              "    <tr>\n",
              "      <th>0</th>\n",
              "      <td>[total, bill, for, this, horrible, service, ?,...</td>\n",
              "      <td>1.0</td>\n",
              "    </tr>\n",
              "    <tr>\n",
              "      <th>1</th>\n",
              "      <td>[i, *adore*, travis, at, the, hard, rock, 's, ...</td>\n",
              "      <td>5.0</td>\n",
              "    </tr>\n",
              "    <tr>\n",
              "      <th>2</th>\n",
              "      <td>[i, have, to, say, that, this, office, really,...</td>\n",
              "      <td>5.0</td>\n",
              "    </tr>\n",
              "    <tr>\n",
              "      <th>3</th>\n",
              "      <td>[went, in, for, a, lunch, ., steak, sandwich, ...</td>\n",
              "      <td>5.0</td>\n",
              "    </tr>\n",
              "    <tr>\n",
              "      <th>4</th>\n",
              "      <td>[today, was, my, second, out, of, three, sessi...</td>\n",
              "      <td>1.0</td>\n",
              "    </tr>\n",
              "  </tbody>\n",
              "</table>\n",
              "</div>"
            ],
            "text/plain": [
              "                                                text  stars\n",
              "0  [total, bill, for, this, horrible, service, ?,...    1.0\n",
              "1  [i, *adore*, travis, at, the, hard, rock, 's, ...    5.0\n",
              "2  [i, have, to, say, that, this, office, really,...    5.0\n",
              "3  [went, in, for, a, lunch, ., steak, sandwich, ...    5.0\n",
              "4  [today, was, my, second, out, of, three, sessi...    1.0"
            ]
          },
          "metadata": {
            "tags": []
          },
          "execution_count": 8
        }
      ]
    },
    {
      "cell_type": "code",
      "metadata": {
        "id": "TCX_rsz3e-9H",
        "outputId": "5cf254e6-1849-485a-b136-73720bca8ac0",
        "colab": {
          "base_uri": "https://localhost:8080/",
          "height": 34
        }
      },
      "source": [
        "len(df)"
      ],
      "execution_count": null,
      "outputs": [
        {
          "output_type": "execute_result",
          "data": {
            "text/plain": [
              "533581"
            ]
          },
          "metadata": {
            "tags": []
          },
          "execution_count": 9
        }
      ]
    },
    {
      "cell_type": "markdown",
      "metadata": {
        "id": "22MgwcGRgr_u"
      },
      "source": [
        "Split train (0.8), val (0.1), and test(0.1) sets.\n",
        "Used random seed of 1"
      ]
    },
    {
      "cell_type": "code",
      "metadata": {
        "id": "N39Vxjpme-uy"
      },
      "source": [
        "df = shuffle(df, random_state=1)\n",
        "train, validation, test = df.iloc[:int(len(df) * 0.8)], df.iloc[int(len(df) * 0.8) : int(len(df) * 0.9)], df.iloc[int(len(df) * 0.9):]"
      ],
      "execution_count": null,
      "outputs": []
    },
    {
      "cell_type": "code",
      "metadata": {
        "id": "_pgxhDS3e9aw"
      },
      "source": [
        "train_X, train_y = train['text'], train['stars']\n",
        "val_X, val_y = validation['text'], validation['stars']\n",
        "test_X, test_y = test['text'], test['stars']"
      ],
      "execution_count": null,
      "outputs": []
    },
    {
      "cell_type": "markdown",
      "metadata": {
        "id": "dUEwTp5ZkUQk"
      },
      "source": [
        "Convert each text to list of indices of words"
      ]
    },
    {
      "cell_type": "code",
      "metadata": {
        "id": "YpbHZXJ9hK8B"
      },
      "source": [
        "# # Reference: https://towardsdatascience.com/word-embeddings-for-sentiment-analysis-65f42ea5d26e\n",
        "# tk = Tokenizer(num_words=50000,\n",
        "#                filters='!\"#$%&()*+,-./:;<=>?@[\\]^_`{\"}~\\t\\n',\n",
        "#                lower=True,\n",
        "#                split=\" \"\n",
        "#               )\n",
        "# tk.fit_on_texts(train_X)"
      ],
      "execution_count": null,
      "outputs": []
    },
    {
      "cell_type": "code",
      "metadata": {
        "id": "beOtv6dldHsW"
      },
      "source": [
        "tk_path='/content/drive/My Drive/data/tokenizer.pickle' #for 50,000 words"
      ],
      "execution_count": null,
      "outputs": []
    },
    {
      "cell_type": "code",
      "metadata": {
        "id": "92e97_lCcK-g"
      },
      "source": [
        "# with open(tk_path, 'wb') as handle:\n",
        "#     pickle.dump(tk, handle, protocol=pickle.HIGHEST_PROTOCOL)"
      ],
      "execution_count": null,
      "outputs": []
    },
    {
      "cell_type": "code",
      "metadata": {
        "id": "DHZOzNTacjBa"
      },
      "source": [
        "with open(tk_path, 'rb') as handle:\n",
        "    tk = pickle.load(handle)"
      ],
      "execution_count": null,
      "outputs": []
    },
    {
      "cell_type": "code",
      "metadata": {
        "id": "35VrMg9OcJ7_"
      },
      "source": [
        "train_X_seq = tk.texts_to_sequences(train_X)\n",
        "val_X_seq = tk.texts_to_sequences(val_X)\n",
        "test_X_seq = tk.texts_to_sequences(test_X)"
      ],
      "execution_count": null,
      "outputs": []
    },
    {
      "cell_type": "code",
      "metadata": {
        "id": "_YncNI-QhLMD"
      },
      "source": [
        "assert len(train_X_seq) + len(val_X_seq) + len(test_X_seq) == len(df)"
      ],
      "execution_count": null,
      "outputs": []
    },
    {
      "cell_type": "markdown",
      "metadata": {
        "id": "UComPW-YmP8r"
      },
      "source": [
        "Pad each sequence by max length of all sequences"
      ]
    },
    {
      "cell_type": "code",
      "metadata": {
        "id": "ZdxTG6PgknDK"
      },
      "source": [
        "max_len = -1\n",
        "for seq in train_X_seq:\n",
        "  if len(seq) > max_len:\n",
        "    max_len = len(seq)\n",
        "\n",
        "for seq in val_X_seq:\n",
        "  if len(seq) > max_len:\n",
        "    max_len = len(seq)\n",
        "\n",
        "for seq in test_X_seq:\n",
        "  if len(seq) > max_len:\n",
        "    max_len = len(seq)"
      ],
      "execution_count": null,
      "outputs": []
    },
    {
      "cell_type": "code",
      "metadata": {
        "id": "RaZ7oNiae9PV",
        "outputId": "9adcc4e8-671b-4e8b-979e-48de6d2b82bc",
        "colab": {
          "base_uri": "https://localhost:8080/",
          "height": 34
        }
      },
      "source": [
        "max_len"
      ],
      "execution_count": null,
      "outputs": [
        {
          "output_type": "execute_result",
          "data": {
            "text/plain": [
              "1164"
            ]
          },
          "metadata": {
            "tags": []
          },
          "execution_count": 125
        }
      ]
    },
    {
      "cell_type": "code",
      "metadata": {
        "id": "1tLzDq8EndcJ"
      },
      "source": [
        "train_X_seq = pad_sequences(train_X_seq, maxlen=max_len)\n",
        "val_X_seq = pad_sequences(val_X_seq, maxlen=max_len)\n",
        "test_X_seq = pad_sequences(test_X_seq, maxlen=max_len)"
      ],
      "execution_count": null,
      "outputs": []
    },
    {
      "cell_type": "markdown",
      "metadata": {
        "id": "NsNqMQHMoRxW"
      },
      "source": [
        "One hot encode the labels (maybe not required)"
      ]
    },
    {
      "cell_type": "markdown",
      "metadata": {
        "id": "-rQvBo_xo4p5"
      },
      "source": [
        "Load pre-trained glove embedding"
      ]
    },
    {
      "cell_type": "code",
      "metadata": {
        "id": "rLy9i4OPpITz"
      },
      "source": [
        "glove_path = \"/content/drive/My Drive/data/glove.twitter.27B/glove.twitter.27B.200d.txt\""
      ],
      "execution_count": null,
      "outputs": []
    },
    {
      "cell_type": "code",
      "metadata": {
        "id": "-FDQlUhzoGiF"
      },
      "source": [
        "glove_embedding = {}\n",
        "glove = open(glove_path)\n",
        "with open(glove_path, 'r') as f:\n",
        "  for line in glove:\n",
        "      values = line.split()\n",
        "      word = values[0]\n",
        "      vector = np.asarray(values[1:], dtype='float64')\n",
        "      glove_embedding[word] = vector"
      ],
      "execution_count": null,
      "outputs": []
    },
    {
      "cell_type": "code",
      "metadata": {
        "id": "T1QkkM1vsAh5"
      },
      "source": [
        "# glove_embedding"
      ],
      "execution_count": null,
      "outputs": []
    },
    {
      "cell_type": "markdown",
      "metadata": {
        "id": "R1rC9N1CqXhK"
      },
      "source": [
        "Extract word embedding from glove based on words in our dataset"
      ]
    },
    {
      "cell_type": "code",
      "metadata": {
        "id": "81WocVd-o816"
      },
      "source": [
        "#Reference: https://towardsdatascience.com/word-embeddings-for-sentiment-analysis-65f42ea5d26e\n",
        "emb_matrix = np.zeros((50000, 200))\n",
        "for w, i in tk.word_index.items():\n",
        "    if i < 50000:\n",
        "        vect = glove_embedding.get(w)\n",
        "        if vect is not None:\n",
        "          emb_matrix[i] = vect\n",
        "    else:\n",
        "        break"
      ],
      "execution_count": null,
      "outputs": []
    },
    {
      "cell_type": "markdown",
      "metadata": {
        "id": "m3m7cqhXwgmC"
      },
      "source": [
        "Build data generator"
      ]
    },
    {
      "cell_type": "code",
      "metadata": {
        "id": "XQVcdVn9zr_z"
      },
      "source": [
        "from keras.preprocessing.sequence import pad_sequences\n",
        "from keras.utils import to_categorical\n",
        "\n",
        "def data_generator(seq, label, batch_size):\n",
        "\n",
        "    seq = np.array(seq)\n",
        "    label = to_categorical(label)\n",
        "    label = label[:, 1:]\n",
        "\n",
        "    data = np.concatenate((seq, label), axis=1)\n",
        "\n",
        "    while True:\n",
        "        \n",
        "        np.random.shuffle(data)\n",
        "        X, y = data[:, :-5], data[:, -5:]\n",
        "\n",
        "        # num_iter = int(len(seq) / batch_size) - 1\n",
        "        # for i in range(num_iter):\n",
        "        #   yield [X[batch_size * i : batch_size * (i + 1), :], y[batch_size * i : batch_size * (i + 1)]]\n",
        "\n",
        "        yield [X[: batch_size, :], y[: batch_size]]"
      ],
      "execution_count": null,
      "outputs": []
    },
    {
      "cell_type": "markdown",
      "metadata": {
        "id": "DS6uDFoAqu68"
      },
      "source": [
        "Model 1: LSTM(1024) + Dense"
      ]
    },
    {
      "cell_type": "code",
      "metadata": {
        "id": "yPACioGjq0Zz"
      },
      "source": [
        "model = models.Sequential()\n",
        "model.add(layers.Embedding(50000, 200, input_length=max_len))\n",
        "model.add(layers.Dropout(0.5))\n",
        "model.add(layers.LSTM(1024, dropout=0.3, recurrent_dropout=0.3))\n",
        "model.add(layers.Dense(256, activation='relu'))\n",
        "model.add(layers.Dense(5, activation='softmax'))"
      ],
      "execution_count": null,
      "outputs": []
    },
    {
      "cell_type": "markdown",
      "metadata": {
        "id": "gdtq1AIJuTzi"
      },
      "source": [
        "Freeze the embedding layer of the model"
      ]
    },
    {
      "cell_type": "code",
      "metadata": {
        "id": "6gmwgnbauXZM"
      },
      "source": [
        "model.layers[0].set_weights([emb_matrix])\n",
        "model.layers[0].trainable = False"
      ],
      "execution_count": null,
      "outputs": []
    },
    {
      "cell_type": "code",
      "metadata": {
        "id": "0_JmH4yjAvjD",
        "outputId": "9a91d1a2-91df-4c05-dcf6-a3f2c28278ad",
        "colab": {
          "base_uri": "https://localhost:8080/",
          "height": 323
        }
      },
      "source": [
        "model.summary()"
      ],
      "execution_count": null,
      "outputs": [
        {
          "output_type": "stream",
          "text": [
            "Model: \"sequential_1\"\n",
            "_________________________________________________________________\n",
            "Layer (type)                 Output Shape              Param #   \n",
            "=================================================================\n",
            "embedding_1 (Embedding)      (None, 1164, 200)         10000000  \n",
            "_________________________________________________________________\n",
            "dropout_1 (Dropout)          (None, 1164, 200)         0         \n",
            "_________________________________________________________________\n",
            "lstm_1 (LSTM)                (None, 1024)              5017600   \n",
            "_________________________________________________________________\n",
            "dense_1 (Dense)              (None, 256)               262400    \n",
            "_________________________________________________________________\n",
            "dense_2 (Dense)              (None, 5)                 1285      \n",
            "=================================================================\n",
            "Total params: 15,281,285\n",
            "Trainable params: 5,281,285\n",
            "Non-trainable params: 10,000,000\n",
            "_________________________________________________________________\n"
          ],
          "name": "stdout"
        }
      ]
    },
    {
      "cell_type": "code",
      "metadata": {
        "id": "-779uKcJ8UB-"
      },
      "source": [
        "from keras import optimizers\n",
        "model.compile(loss='categorical_crossentropy',\n",
        "              optimizer=optimizers.RMSprop(lr=5e-4),\n",
        "              metrics=['acc'])"
      ],
      "execution_count": null,
      "outputs": []
    },
    {
      "cell_type": "code",
      "metadata": {
        "id": "5PgRF1MICT-y"
      },
      "source": [
        "epoch = 12\n",
        "batch_size = 128\n",
        "steps = len(train_X_seq) // batch_size"
      ],
      "execution_count": null,
      "outputs": []
    },
    {
      "cell_type": "code",
      "metadata": {
        "id": "VBJjc37yIXoz"
      },
      "source": [
        "# Due to the runtime limit of colab, had to run each epoch at a time\n",
        "# Restore from previous epoch\n",
        "model_path = \"/content/drive/My Drive/data/trained_models/\"\n",
        "model.load_weights(model_path + 'epoch_11.h5')\n",
        "trace = \\\n",
        "  [{'acc': [0.6823823],\n",
        "    'loss': [0.8391055307330382],\n",
        "    'val_acc': [0.7478749752044678],\n",
        "    'val_loss': [0.5470333695411682]},\n",
        "  {'acc': [0.7272069],\n",
        "    'loss': [0.7043180210403003],\n",
        "    'val_acc': [0.7578281164169312],\n",
        "    'val_loss': [0.5354262590408325]},\n",
        "  {'acc': [0.7431904],\n",
        "    'loss': [0.6548993458058495],\n",
        "    'val_acc': [0.7640312314033508],\n",
        "    'val_loss': [0.4882242679595947]},\n",
        "  {'acc': [0.7560574],\n",
        "    'loss': [0.6162402497288275],\n",
        "    'val_acc': [0.7718906402587891],\n",
        "    'val_loss': [0.5270772576332092]},\n",
        "  {'acc': [0.7646807],\n",
        "    'loss': [0.5959780901026854],\n",
        "    'val_acc': [0.7754843831062317],\n",
        "    'val_loss': [0.40212321281433105]},\n",
        "  {'acc': [0.7681276],\n",
        "    'loss': [0.5884306511892554],\n",
        "    'val_acc': [0.7795624732971191],\n",
        "    'val_loss': [0.6955069303512573]},\n",
        "  {'acc': [0.769011],\n",
        "    'loss': [0.5901212350705032],\n",
        "    'val_acc': [0.774093747138977],\n",
        "    'val_loss': [0.6051162481307983]},\n",
        "  {'acc': [0.7706021],\n",
        "    'loss': [0.5848249332341307],\n",
        "    'val_acc': [0.7745781540870667],\n",
        "    'val_loss': [0.5339535474777222]},\n",
        "  {'acc': [0.7707],\n",
        "   'loss': [0.5828],\n",
        "   'val_acc': [0.781],\n",
        "   'val_loss': [0.4357]},\n",
        "  {'acc': [0.777],\n",
        "   'loss': [0.5666],\n",
        "   'val_acc': [0.7847],\n",
        "   'val_loss': [0.6317]},\n",
        "  {'acc': [0.77630335],\n",
        "    'loss': [0.5682157798931137],\n",
        "    'val_acc': [0.7851406335830688],\n",
        "    'val_loss': [0.4277696907520294]},\n",
        "  {'acc': [0.7795394],\n",
        "    'loss': [0.5614399272271381],\n",
        "    'val_acc': [0.7819374799728394],\n",
        "    'val_loss': [0.6129763722419739]}]"
      ],
      "execution_count": null,
      "outputs": []
    },
    {
      "cell_type": "code",
      "metadata": {
        "id": "Bs8n88UHutyn"
      },
      "source": [
        "# # trace = []\n",
        "for i in range(10, epoch):\n",
        "    print(i)\n",
        "    train_generator = data_generator(train_X_seq, train_y, batch_size)\n",
        "    val_generator = data_generator(val_X_seq, val_y, batch_size)\n",
        "    history = model.fit_generator(train_generator,\n",
        "                                  epochs=1,\n",
        "                                  steps_per_epoch=steps,\n",
        "                                  validation_data=val_generator,\n",
        "                                  validation_steps=500,\n",
        "                                  verbose=1)\n",
        "    trace.append(history.history)\n",
        "    model.save(model_path + 'LSTM/epoch_' + str(i) + '.h5')"
      ],
      "execution_count": null,
      "outputs": []
    },
    {
      "cell_type": "code",
      "metadata": {
        "id": "IA0OKgRtXOx8"
      },
      "source": [
        "num_epochs = len(trace)\n",
        "acc, loss, val_acc, val_loss = [], [], [], []\n",
        "for i in range(num_epochs):\n",
        "    acc.append(trace[i]['acc'])\n",
        "    loss.append(trace[i]['loss'])\n",
        "    val_acc.append(trace[i]['val_acc'])\n",
        "    val_loss.append(trace[i]['val_loss'])"
      ],
      "execution_count": null,
      "outputs": []
    },
    {
      "cell_type": "code",
      "metadata": {
        "id": "TgKKljzqjRP5"
      },
      "source": [
        "x = [i for i in range(num_epochs)]"
      ],
      "execution_count": null,
      "outputs": []
    },
    {
      "cell_type": "code",
      "metadata": {
        "id": "3WE2rp1NjaCW",
        "outputId": "69df5254-cc84-4389-94f5-9763c7cc5fac",
        "colab": {
          "base_uri": "https://localhost:8080/",
          "height": 312
        }
      },
      "source": [
        "plt.plot(x, acc)\n",
        "plt.plot(x, val_acc)\n",
        "plt.title('accuracy versus num epoch')\n",
        "plt.xlabel('epoch')\n",
        "plt.ylabel('accuracy')\n",
        "plt.legend(['training acc', 'val acc'])\n",
        ";"
      ],
      "execution_count": null,
      "outputs": [
        {
          "output_type": "execute_result",
          "data": {
            "text/plain": [
              "''"
            ]
          },
          "metadata": {
            "tags": []
          },
          "execution_count": 30
        },
        {
          "output_type": "display_data",
          "data": {
            "image/png": "[encoded data removed]",
            "text/plain": [
              "<Figure size 432x288 with 1 Axes>"
            ]
          },
          "metadata": {
            "tags": [],
            "needs_background": "light"
          }
        }
      ]
    },
    {
      "cell_type": "code",
      "metadata": {
        "id": "DIHEz5h_jeI0",
        "outputId": "6417ea43-647f-4359-b5ef-44d2cff5daa1",
        "colab": {
          "base_uri": "https://localhost:8080/",
          "height": 312
        }
      },
      "source": [
        "plt.plot(x, loss)\n",
        "plt.plot(x, val_loss)\n",
        "plt.title('loss versus num epoch')\n",
        "plt.xlabel('epoch')\n",
        "plt.ylabel('loss')\n",
        "plt.legend(['training loss', 'val loss'])\n",
        ";"
      ],
      "execution_count": null,
      "outputs": [
        {
          "output_type": "execute_result",
          "data": {
            "text/plain": [
              "''"
            ]
          },
          "metadata": {
            "tags": []
          },
          "execution_count": 31
        },
        {
          "output_type": "display_data",
          "data": {
            "image/png": "[encoded data removed]",
            "text/plain": [
              "<Figure size 432x288 with 1 Axes>"
            ]
          },
          "metadata": {
            "tags": [],
            "needs_background": "light"
          }
        }
      ]
    },
    {
      "cell_type": "code",
      "metadata": {
        "id": "7Q89aZjsxTWz"
      },
      "source": [
        "model_path = \"/content/drive/My Drive/data/trained_models/\"\n",
        "model.load_weights(model_path + 'LSTM/epoch_11.h5')"
      ],
      "execution_count": null,
      "outputs": []
    },
    {
      "cell_type": "code",
      "metadata": {
        "id": "1j-DniRrXgLt"
      },
      "source": [
        "# measure validation accuracy\n",
        "val_loss, val_acc = model.evaluate_generator(data_generator(val_X_seq, val_y, batch_size), steps=100)"
      ],
      "execution_count": null,
      "outputs": []
    },
    {
      "cell_type": "code",
      "metadata": {
        "id": "qyabp1fJyMiQ",
        "outputId": "3aebf450-22c0-42d5-9ec7-c4686f8f86e1",
        "colab": {
          "base_uri": "https://localhost:8080/",
          "height": 34
        }
      },
      "source": [
        "val_loss"
      ],
      "execution_count": null,
      "outputs": [
        {
          "output_type": "execute_result",
          "data": {
            "text/plain": [
              "0.5571508407592773"
            ]
          },
          "metadata": {
            "tags": []
          },
          "execution_count": 44
        }
      ]
    },
    {
      "cell_type": "code",
      "metadata": {
        "id": "3QZAIWKwy8C4",
        "outputId": "eacca4e6-dc15-47d6-a0ff-a7d8ff420faa",
        "colab": {
          "base_uri": "https://localhost:8080/",
          "height": 34
        }
      },
      "source": [
        "val_acc"
      ],
      "execution_count": null,
      "outputs": [
        {
          "output_type": "execute_result",
          "data": {
            "text/plain": [
              "0.7837499976158142"
            ]
          },
          "metadata": {
            "tags": []
          },
          "execution_count": 43
        }
      ]
    },
    {
      "cell_type": "code",
      "metadata": {
        "id": "GaX4HKbXodsv"
      },
      "source": [
        "# measure test accuracy\n",
        "test_loss, test_acc = model.evaluate_generator(data_generator(test_X_seq, test_y, batch_size), steps=100)"
      ],
      "execution_count": null,
      "outputs": []
    },
    {
      "cell_type": "code",
      "metadata": {
        "id": "LEAyxw3izA4A",
        "outputId": "6e5db756-196f-4d83-aea2-91636d085a96",
        "colab": {
          "base_uri": "https://localhost:8080/",
          "height": 34
        }
      },
      "source": [
        "test_loss"
      ],
      "execution_count": null,
      "outputs": [
        {
          "output_type": "execute_result",
          "data": {
            "text/plain": [
              "0.7308070659637451"
            ]
          },
          "metadata": {
            "tags": []
          },
          "execution_count": 46
        }
      ]
    },
    {
      "cell_type": "code",
      "metadata": {
        "id": "_T4UfC8xzAlx",
        "outputId": "62f0004e-1e3a-4bd5-afc9-55f2138d471a",
        "colab": {
          "base_uri": "https://localhost:8080/",
          "height": 34
        }
      },
      "source": [
        "test_acc"
      ],
      "execution_count": null,
      "outputs": [
        {
          "output_type": "execute_result",
          "data": {
            "text/plain": [
              "0.7835937738418579"
            ]
          },
          "metadata": {
            "tags": []
          },
          "execution_count": 47
        }
      ]
    },
    {
      "cell_type": "code",
      "metadata": {
        "id": "cXQloviWBkkW"
      },
      "source": [
        "output = model.predict(val_X_seq[:10, :])"
      ],
      "execution_count": null,
      "outputs": []
    },
    {
      "cell_type": "code",
      "metadata": {
        "id": "SkP_MydlBsHa",
        "outputId": "868980a4-a2b3-4488-f0dc-291960fdf129",
        "colab": {
          "base_uri": "https://localhost:8080/",
          "height": 34
        }
      },
      "source": [
        "np.argmax(output, axis=1) + 1.0"
      ],
      "execution_count": null,
      "outputs": [
        {
          "output_type": "execute_result",
          "data": {
            "text/plain": [
              "array([1., 5., 1., 5., 2., 5., 3., 5., 3., 5.])"
            ]
          },
          "metadata": {
            "tags": []
          },
          "execution_count": 34
        }
      ]
    },
    {
      "cell_type": "code",
      "metadata": {
        "id": "XK_rU93JhhI1"
      },
      "source": [
        "# def initialize_tokenizer():\n",
        "# \ttk_path = '/content/drive/My Drive/data/tokenizer.pickle'\n",
        "# \twith open(tk_path, 'rb') as handle:\n",
        "# \t    tk = pickle.load(handle)\n",
        "# \tprint('Initialized Tokenizer')\n",
        "# \treturn tk\n",
        "\n",
        "# def load_model():\n",
        "\n",
        "# \tmodel = models.Sequential()\n",
        "# \tmodel.add(layers.Embedding(50000, 200, input_length=1164)) #input_length=max_len\n",
        "# \tmodel.add(layers.Dropout(0.5))\n",
        "# \tmodel.add(layers.LSTM(1024, dropout=0.3, recurrent_dropout=0.3))\n",
        "# \tmodel.add(layers.Dense(256, activation='relu'))\n",
        "# \tmodel.add(layers.Dense(5, activation='softmax'))\t\n",
        "# \t# model.compile(loss='categorical_crossentropy',\n",
        "# \t#               optimizer=optimizers.RMSprop(lr=5e-4),\n",
        "# \t#               metrics=['acc'])\n",
        "\n",
        "# \tmodel_path = \"/content/drive/My Drive/data/trained_models/epoch_11.h5\"\n",
        "# \tmodel.load_weights(model_path)\n",
        "# \tprint('Loaded Model')\n",
        "# \treturn model\n",
        "\n",
        "# def eval(text, tk, model):\n",
        "\n",
        "#   # print(text)\n",
        "#   # tmp = tk.texts_to_sequences(text)\n",
        "#   # seq = []\n",
        "#   # for word in tmp:\n",
        "#   #   seq.append(tmp[0] if len(tmp) > 0 else 0)\n",
        "\n",
        "#   seq = tk.texts_to_sequences([text])\n",
        "\n",
        "#   # print(seq)\n",
        "\n",
        "#   seq = pad_sequences(seq, maxlen=1164)\n",
        "\n",
        "#   # print(seq)\n",
        "\n",
        "#   # print(model.predict(seq))\n",
        "\n",
        "#   # print(np.argmax(model.predict(seq)) + 1.0)\n",
        "\n",
        "#   return np.argmax(model.predict(seq)) + 1.0 #axis=1 if processing multiple texts a time"
      ],
      "execution_count": null,
      "outputs": []
    },
    {
      "cell_type": "code",
      "metadata": {
        "id": "2VPeGf4Qhs2t"
      },
      "source": [
        "# validation_file = \"/content/drive/My Drive/data/challenge5/yelp_challenge_5_with_answers.jsonl\""
      ],
      "execution_count": null,
      "outputs": []
    },
    {
      "cell_type": "code",
      "metadata": {
        "id": "yGUaqSPLiMYi",
        "outputId": "bfd073c6-9035-4103-ddaf-7599265dd864",
        "colab": {
          "base_uri": "https://localhost:8080/",
          "height": 51
        }
      },
      "source": [
        "# tk = initialize_tokenizer()\n",
        "# model = load_model()\n",
        "\n",
        "# with open(\"/content/drive/My Drive/data/challenge5/output.jsonl\", \"w\") as fw:\n",
        "#   with open(validation_file, \"r\") as fr:\n",
        "#     for line in fr:\n",
        "#       review = json.loads(line)\n",
        "#       fw.write(json.dumps({\"review_id\": review['review_id'], \"predicted_stars\": eval(review['text'], tk, model)})+\"\\n\")"
      ],
      "execution_count": null,
      "outputs": [
        {
          "output_type": "stream",
          "text": [
            "Initialized Tokenizer\n",
            "Loaded Model\n"
          ],
          "name": "stdout"
        }
      ]
    },
    {
      "cell_type": "markdown",
      "metadata": {
        "id": "SfnwIsV9nj6Y"
      },
      "source": [
        "Model 2: Conv1D + Dense"
      ]
    },
    {
      "cell_type": "code",
      "metadata": {
        "id": "J876kKD1nhgg",
        "outputId": "ae003995-52a9-45b9-cc71-7fb8fa518c18",
        "colab": {
          "base_uri": "https://localhost:8080/",
          "height": 51
        }
      },
      "source": [
        "model = models.Sequential()\n",
        "model.add(layers.Embedding(50000, 200, input_length=max_len))\n",
        "\n",
        "model.add(layers.Conv1D(256, 5, padding='same', activation='relu'))\n",
        "model.add(layers.Conv1D(512, 5, padding='same', activation='relu'))\n",
        "model.add(layers.MaxPooling1D(stride=2))\n",
        "\n",
        "model.add(layers.Conv1D(1024, 5, padding='same', activation='relu'))\n",
        "model.add(layers.GlobalMaxPooling1D())\n",
        "\n",
        "model.add(layers.Dense(512, activation='relu'))\n",
        "model.add(layers.Dense(128, activation='relu'))\n",
        "model.add(layers.Dense(5, activation='softmax'))"
      ],
      "execution_count": null,
      "outputs": [
        {
          "output_type": "stream",
          "text": [
            "/usr/local/lib/python3.6/dist-packages/ipykernel_launcher.py:6: UserWarning: Update your `MaxPooling1D` call to the Keras 2 API: `MaxPooling1D(strides=2)`\n",
            "  \n"
          ],
          "name": "stderr"
        }
      ]
    },
    {
      "cell_type": "code",
      "metadata": {
        "id": "fzTTS-ManhZE"
      },
      "source": [
        "model.layers[0].set_weights([emb_matrix])\n",
        "model.layers[0].trainable = False"
      ],
      "execution_count": null,
      "outputs": []
    },
    {
      "cell_type": "code",
      "metadata": {
        "id": "vukvSy_QnhQ3",
        "outputId": "a7648599-c560-4b74-b825-4271af939493",
        "colab": {
          "base_uri": "https://localhost:8080/",
          "height": 459
        }
      },
      "source": [
        "model.summary()"
      ],
      "execution_count": null,
      "outputs": [
        {
          "output_type": "stream",
          "text": [
            "Model: \"sequential_2\"\n",
            "_________________________________________________________________\n",
            "Layer (type)                 Output Shape              Param #   \n",
            "=================================================================\n",
            "embedding_2 (Embedding)      (None, 1164, 200)         10000000  \n",
            "_________________________________________________________________\n",
            "conv1d_4 (Conv1D)            (None, 1164, 256)         256256    \n",
            "_________________________________________________________________\n",
            "conv1d_5 (Conv1D)            (None, 1164, 512)         655872    \n",
            "_________________________________________________________________\n",
            "max_pooling1d_2 (MaxPooling1 (None, 582, 512)          0         \n",
            "_________________________________________________________________\n",
            "conv1d_6 (Conv1D)            (None, 582, 1024)         2622464   \n",
            "_________________________________________________________________\n",
            "global_max_pooling1d_2 (Glob (None, 1024)              0         \n",
            "_________________________________________________________________\n",
            "dense_4 (Dense)              (None, 512)               524800    \n",
            "_________________________________________________________________\n",
            "dense_5 (Dense)              (None, 128)               65664     \n",
            "_________________________________________________________________\n",
            "dense_6 (Dense)              (None, 5)                 645       \n",
            "=================================================================\n",
            "Total params: 14,125,701\n",
            "Trainable params: 4,125,701\n",
            "Non-trainable params: 10,000,000\n",
            "_________________________________________________________________\n"
          ],
          "name": "stdout"
        }
      ]
    },
    {
      "cell_type": "code",
      "metadata": {
        "id": "-fvfIAuxnhIq"
      },
      "source": [
        "from keras import optimizers\n",
        "model.compile(loss='categorical_crossentropy',\n",
        "              optimizer=optimizers.RMSprop(lr=5e-4),\n",
        "              metrics=['acc'])"
      ],
      "execution_count": null,
      "outputs": []
    },
    {
      "cell_type": "code",
      "metadata": {
        "id": "tQ-lyefnnhAg"
      },
      "source": [
        "# epoch = 12\n",
        "batch_size = 128\n",
        "steps = len(train_X_seq) // batch_size"
      ],
      "execution_count": null,
      "outputs": []
    },
    {
      "cell_type": "code",
      "metadata": {
        "id": "TUe9d8Hwng37"
      },
      "source": [
        "# Due to the runtime limit of colab, had to run each epoch at a time\n",
        "# Restore from previous epoch\n",
        "model_path = \"/content/drive/My Drive/data/trained_models/\"\n",
        "model.load_weights(model_path + 'conv1d/epoch_9.h5')\n",
        "trace = \\\n",
        "  [{'acc': [0.74457294],\n",
        "    'loss': [0.6532391668188408],\n",
        "    'val_acc': [0.7593125104904175],\n",
        "    'val_loss': [0.5915010571479797]},\n",
        "  {'acc': [0.78199047],\n",
        "    'loss': [0.5520513805359083],\n",
        "    'val_acc': [0.7790781259536743],\n",
        "    'val_loss': [0.6340680122375488]},\n",
        "  {'acc': [0.79026693],\n",
        "    'loss': [0.5316256266031425],\n",
        "    'val_acc': [0.7721874713897705],\n",
        "    'val_loss': [0.6757320165634155]},\n",
        "  {'acc': [0.79226345],\n",
        "    'loss': [0.527761304546561],\n",
        "    'val_acc': [0.7612031102180481],\n",
        "    'val_loss': [0.5371536016464233]},\n",
        "  {'acc': [0.7957151],\n",
        "    'loss': [0.519927030884011],\n",
        "    'val_acc': [0.7631875276565552],\n",
        "    'val_loss': [0.6736571788787842]},\n",
        "  {'acc': [0.797735],\n",
        "    'loss': [0.5144338964897498],\n",
        "    'val_acc': [0.7557812333106995],\n",
        "    'val_loss': [0.6181401014328003]},\n",
        "  {'acc': [0.7992511],\n",
        "    'loss': [0.5138116710974059],\n",
        "    'val_acc': [0.7776093482971191],\n",
        "    'val_loss': [0.5601906180381775]},\n",
        "  {'acc': [0.801182],\n",
        "    'loss': [0.5171483094794491],\n",
        "    'val_acc': [0.772781252861023],\n",
        "    'val_loss': [0.577178955078125]},\n",
        "  {'acc': [0.8043407],\n",
        "    'loss': [0.49665852857336856],\n",
        "    'val_acc': [0.7739218473434448],\n",
        "    'val_loss': [0.578159511089325]},\n",
        "  {'acc': [0.8074221],\n",
        "    'loss': [0.4906259973158576],\n",
        "    'val_acc': [0.7779218554496765],\n",
        "    'val_loss': [0.5228006839752197]}]"
      ],
      "execution_count": null,
      "outputs": []
    },
    {
      "cell_type": "code",
      "metadata": {
        "id": "5bnCQ5SmrfiC",
        "outputId": "53b9bf09-1817-4c69-edf7-725aa55c5b35",
        "colab": {
          "base_uri": "https://localhost:8080/",
          "height": 170
        }
      },
      "source": [
        "# for i in range(10, 10):\n",
        "#     print(i)\n",
        "#     train_generator = data_generator(train_X_seq, train_y, batch_size)\n",
        "#     val_generator = data_generator(val_X_seq, val_y, batch_size)\n",
        "#     history = model.fit_generator(train_generator,\n",
        "#                                   epochs=1,4\n",
        "#                                   steps_per_epoch=steps,\n",
        "#                                   validation_data=val_generator,\n",
        "#                                   validation_steps=500,\n",
        "#                                   verbose=1)\n",
        "#     trace.append(history.history)\n",
        "#     model.save(model_path + 'conv1d/epoch_' + str(i) + '.h5')"
      ],
      "execution_count": null,
      "outputs": [
        {
          "output_type": "stream",
          "text": [
            "7\n",
            "Epoch 1/1\n",
            "3334/3334 [==============================] - 4272s 1s/step - loss: 0.5171 - acc: 0.8012 - val_loss: 0.5772 - val_acc: 0.7728\n",
            "8\n",
            "Epoch 1/1\n",
            "3334/3334 [==============================] - 4276s 1s/step - loss: 0.4967 - acc: 0.8043 - val_loss: 0.5782 - val_acc: 0.7739\n",
            "9\n",
            "Epoch 1/1\n",
            "3334/3334 [==============================] - 4263s 1s/step - loss: 0.4906 - acc: 0.8074 - val_loss: 0.5228 - val_acc: 0.7779\n"
          ],
          "name": "stdout"
        }
      ]
    },
    {
      "cell_type": "code",
      "metadata": {
        "id": "iM8jhRZkZbFf"
      },
      "source": [
        "num_epochs = len(trace)\n",
        "acc, loss, val_acc, val_loss = [], [], [], []\n",
        "for i in range(num_epochs):\n",
        "    acc.append(trace[i]['acc'])\n",
        "    loss.append(trace[i]['loss'])\n",
        "    val_acc.append(trace[i]['val_acc'])\n",
        "    val_loss.append(trace[i]['val_loss'])"
      ],
      "execution_count": null,
      "outputs": []
    },
    {
      "cell_type": "code",
      "metadata": {
        "id": "em2sz0knZbFi"
      },
      "source": [
        "x = [i for i in range(num_epochs)]"
      ],
      "execution_count": null,
      "outputs": []
    },
    {
      "cell_type": "code",
      "metadata": {
        "outputId": "740bc099-7ce7-46f8-f66b-8d9640265eb5",
        "id": "bw8KlGiQZbFk",
        "colab": {
          "base_uri": "https://localhost:8080/",
          "height": 312
        }
      },
      "source": [
        "plt.plot(x, acc)\n",
        "plt.plot(x, val_acc)\n",
        "plt.title('accuracy versus num epoch')\n",
        "plt.xlabel('epoch')\n",
        "plt.ylabel('accuracy')\n",
        "plt.legend(['training acc', 'val acc'])\n",
        ";"
      ],
      "execution_count": null,
      "outputs": [
        {
          "output_type": "execute_result",
          "data": {
            "text/plain": [
              "''"
            ]
          },
          "metadata": {
            "tags": []
          },
          "execution_count": 71
        },
        {
          "output_type": "display_data",
          "data": {
            "image/png": "[encoded data removed]",
            "text/plain": [
              "<Figure size 432x288 with 1 Axes>"
            ]
          },
          "metadata": {
            "tags": [],
            "needs_background": "light"
          }
        }
      ]
    },
    {
      "cell_type": "code",
      "metadata": {
        "outputId": "037848f9-543c-4539-8fa8-374f89cf2a87",
        "id": "FTVOQwyWZbFm",
        "colab": {
          "base_uri": "https://localhost:8080/",
          "height": 312
        }
      },
      "source": [
        "plt.plot(x, loss)\n",
        "plt.plot(x, val_loss)\n",
        "plt.title('loss versus num epoch')\n",
        "plt.xlabel('epoch')\n",
        "plt.ylabel('loss')\n",
        "plt.legend(['training loss', 'val loss'])\n",
        ";"
      ],
      "execution_count": null,
      "outputs": [
        {
          "output_type": "execute_result",
          "data": {
            "text/plain": [
              "''"
            ]
          },
          "metadata": {
            "tags": []
          },
          "execution_count": 72
        },
        {
          "output_type": "display_data",
          "data": {
            "image/png": "[encoded data removed]",
            "text/plain": [
              "<Figure size 432x288 with 1 Axes>"
            ]
          },
          "metadata": {
            "tags": [],
            "needs_background": "light"
          }
        }
      ]
    },
    {
      "cell_type": "code",
      "metadata": {
        "id": "9mBXTr58ZbFp"
      },
      "source": [
        "model_path = \"/content/drive/My Drive/data/trained_models/\"\n",
        "model.load_weights(model_path + 'conv1d/epoch_9.h5')"
      ],
      "execution_count": null,
      "outputs": []
    },
    {
      "cell_type": "code",
      "metadata": {
        "id": "h2-OvgPeZbFr"
      },
      "source": [
        "# measure validation accuracy\n",
        "val_loss, val_acc = model.evaluate_generator(data_generator(val_X_seq, val_y, batch_size), steps=100)"
      ],
      "execution_count": null,
      "outputs": []
    },
    {
      "cell_type": "code",
      "metadata": {
        "outputId": "88cbf3cb-1dd4-4d9e-87ae-ca1151dd248c",
        "id": "9xy71jfdZbFt",
        "colab": {
          "base_uri": "https://localhost:8080/",
          "height": 34
        }
      },
      "source": [
        "val_loss"
      ],
      "execution_count": null,
      "outputs": [
        {
          "output_type": "execute_result",
          "data": {
            "text/plain": [
              "0.7731531858444214"
            ]
          },
          "metadata": {
            "tags": []
          },
          "execution_count": 78
        }
      ]
    },
    {
      "cell_type": "code",
      "metadata": {
        "outputId": "53d1562c-aead-4219-bc60-3dfda05a0ee0",
        "id": "ljtBrea_ZbFu",
        "colab": {
          "base_uri": "https://localhost:8080/",
          "height": 34
        }
      },
      "source": [
        "val_acc"
      ],
      "execution_count": null,
      "outputs": [
        {
          "output_type": "execute_result",
          "data": {
            "text/plain": [
              "0.7720312476158142"
            ]
          },
          "metadata": {
            "tags": []
          },
          "execution_count": 79
        }
      ]
    },
    {
      "cell_type": "code",
      "metadata": {
        "id": "TmMOaxG8ZbFw"
      },
      "source": [
        "# measure test accuracy\n",
        "test_loss, test_acc = model.evaluate_generator(data_generator(test_X_seq, test_y, batch_size), steps=100)"
      ],
      "execution_count": null,
      "outputs": []
    },
    {
      "cell_type": "code",
      "metadata": {
        "id": "DAOxMcQwnguC",
        "outputId": "b94d1204-e1f1-4d15-e2f0-bfe7ffa6461a",
        "colab": {
          "base_uri": "https://localhost:8080/",
          "height": 34
        }
      },
      "source": [
        "test_loss"
      ],
      "execution_count": null,
      "outputs": [
        {
          "output_type": "execute_result",
          "data": {
            "text/plain": [
              "0.5418553352355957"
            ]
          },
          "metadata": {
            "tags": []
          },
          "execution_count": 81
        }
      ]
    },
    {
      "cell_type": "code",
      "metadata": {
        "id": "yrpXQ2Dbngkp",
        "outputId": "7f81ba6a-2e02-497f-8cf4-1127d32ed96b",
        "colab": {
          "base_uri": "https://localhost:8080/",
          "height": 34
        }
      },
      "source": [
        "test_acc"
      ],
      "execution_count": null,
      "outputs": [
        {
          "output_type": "execute_result",
          "data": {
            "text/plain": [
              "0.77734375"
            ]
          },
          "metadata": {
            "tags": []
          },
          "execution_count": 82
        }
      ]
    },
    {
      "cell_type": "markdown",
      "metadata": {
        "id": "-EGSYFKfHsIJ"
      },
      "source": [
        "Model 3: GRU"
      ]
    },
    {
      "cell_type": "code",
      "metadata": {
        "id": "lG6ZF_uaINgJ"
      },
      "source": [
        "model = models.Sequential()\n",
        "model.add(layers.Embedding(50000, 200, input_length=max_len))\n",
        "model.add(layers.GRU(256))\n",
        "model.add(layers.Dense(256, activation='tanh'))\n",
        "model.add(layers.Dense(128, activation='tanh'))\n",
        "model.add(layers.Dense(5, activation='softmax'))"
      ],
      "execution_count": null,
      "outputs": []
    },
    {
      "cell_type": "markdown",
      "metadata": {
        "id": "5N9VWx-zINgS"
      },
      "source": [
        "Freeze the embedding layer of the model"
      ]
    },
    {
      "cell_type": "code",
      "metadata": {
        "id": "xLfRRxkCINgT"
      },
      "source": [
        "model.layers[0].set_weights([emb_matrix])\n",
        "model.layers[0].trainable = False"
      ],
      "execution_count": null,
      "outputs": []
    },
    {
      "cell_type": "code",
      "metadata": {
        "outputId": "dffc7dd6-12ba-45b2-c28f-6b37b295b3ca",
        "id": "Ac5DAu7NINgV",
        "colab": {
          "base_uri": "https://localhost:8080/",
          "height": 323
        }
      },
      "source": [
        "model.summary()"
      ],
      "execution_count": null,
      "outputs": [
        {
          "output_type": "stream",
          "text": [
            "Model: \"sequential_5\"\n",
            "_________________________________________________________________\n",
            "Layer (type)                 Output Shape              Param #   \n",
            "=================================================================\n",
            "embedding_5 (Embedding)      (None, 1164, 200)         10000000  \n",
            "_________________________________________________________________\n",
            "gru_3 (GRU)                  (None, 256)               350976    \n",
            "_________________________________________________________________\n",
            "dense_12 (Dense)             (None, 256)               65792     \n",
            "_________________________________________________________________\n",
            "dense_13 (Dense)             (None, 128)               32896     \n",
            "_________________________________________________________________\n",
            "dense_14 (Dense)             (None, 5)                 645       \n",
            "=================================================================\n",
            "Total params: 10,450,309\n",
            "Trainable params: 450,309\n",
            "Non-trainable params: 10,000,000\n",
            "_________________________________________________________________\n"
          ],
          "name": "stdout"
        }
      ]
    },
    {
      "cell_type": "code",
      "metadata": {
        "id": "3S6z-dsAINgY"
      },
      "source": [
        "from keras import optimizers\n",
        "model.compile(loss='categorical_crossentropy',\n",
        "              optimizer=optimizers.RMSprop(lr=5e-4),\n",
        "              metrics=['acc'])"
      ],
      "execution_count": null,
      "outputs": []
    },
    {
      "cell_type": "code",
      "metadata": {
        "id": "Wg2a6GTwINga"
      },
      "source": [
        "epoch = 12\n",
        "batch_size = 128\n",
        "steps = len(train_X_seq) // batch_size"
      ],
      "execution_count": null,
      "outputs": []
    },
    {
      "cell_type": "code",
      "metadata": {
        "id": "UouEIjxQJkqs"
      },
      "source": [
        "# Due to the runtime limit of colab, had to run each epoch at a time\n",
        "# Restore from previous epoch\n",
        "model_path = \"/content/drive/My Drive/data/trained_models/\"\n",
        "model.load_weights(model_path + 'GRU/epoch_2.h5')\n",
        "trace = \\\n",
        "  [{'acc': [0.7429936],\n",
        "    'loss': [0.654380567242231],\n",
        "    'val_acc': [0.7605624794960022],\n",
        "    'val_loss': [0.5554561614990234]},\n",
        "  {'acc': [0.77212524],\n",
        "    'loss': [0.57214564508711],\n",
        "    'val_acc': [0.7685468792915344],\n",
        "    'val_loss': [0.6560267210006714]},\n",
        "  {'acc': [0.7864076],\n",
        "    'loss': [0.5335325640014495],\n",
        "    'val_acc': [0.7787187695503235],\n",
        "    'val_loss': [0.44128021597862244]}]"
      ],
      "execution_count": null,
      "outputs": []
    },
    {
      "cell_type": "code",
      "metadata": {
        "outputId": "9dd9c57e-5dc7-47e9-9a06-d99226879d32",
        "id": "dEQBTeG3Jkqx",
        "colab": {
          "base_uri": "https://localhost:8080/",
          "height": 68
        }
      },
      "source": [
        "for i in range(3, 4):\n",
        "    print(i)\n",
        "    train_generator = data_generator(train_X_seq, train_y, batch_size)\n",
        "    val_generator = data_generator(val_X_seq, val_y, batch_size)\n",
        "    history = model.fit_generator(train_generator,\n",
        "                                  epochs=1,\n",
        "                                  steps_per_epoch=steps,\n",
        "                                  validation_data=val_generator,\n",
        "                                  validation_steps=500,\n",
        "                                  verbose=1)\n",
        "    trace.append(history.history)\n",
        "    model.save(model_path + 'GRU/epoch_' + str(i) + '.h5')"
      ],
      "execution_count": null,
      "outputs": [
        {
          "output_type": "stream",
          "text": [
            "3\n",
            "Epoch 1/1\n",
            " 476/3334 [===>..........................] - ETA: 2:52:29 - loss: 0.5131 - acc: 0.7946"
          ],
          "name": "stdout"
        }
      ]
    },
    {
      "cell_type": "code",
      "metadata": {
        "id": "rf0pznPaKOWO",
        "outputId": "1bc58131-cb24-4ead-885d-a0e16bb38600",
        "colab": {
          "base_uri": "https://localhost:8080/",
          "height": 221
        }
      },
      "source": [
        "trace"
      ],
      "execution_count": null,
      "outputs": [
        {
          "output_type": "execute_result",
          "data": {
            "text/plain": [
              "[{'acc': [0.7429936],\n",
              "  'loss': [0.654380567242231],\n",
              "  'val_acc': [0.7605624794960022],\n",
              "  'val_loss': [0.5554561614990234]},\n",
              " {'acc': [0.77212524],\n",
              "  'loss': [0.57214564508711],\n",
              "  'val_acc': [0.7685468792915344],\n",
              "  'val_loss': [0.6560267210006714]},\n",
              " {'acc': [0.7864076],\n",
              "  'loss': [0.5335325640014495],\n",
              "  'val_acc': [0.7787187695503235],\n",
              "  'val_loss': [0.44128021597862244]}]"
            ]
          },
          "metadata": {
            "tags": []
          },
          "execution_count": 139
        }
      ]
    },
    {
      "cell_type": "code",
      "metadata": {
        "id": "rQxSlsl5Jkq2"
      },
      "source": [
        "num_epochs = len(trace)\n",
        "acc, loss, val_acc, val_loss = [], [], [], []\n",
        "for i in range(num_epochs):\n",
        "    acc.append(trace[i]['acc'])\n",
        "    loss.append(trace[i]['loss'])\n",
        "    val_acc.append(trace[i]['val_acc'])\n",
        "    val_loss.append(trace[i]['val_loss'])"
      ],
      "execution_count": null,
      "outputs": []
    },
    {
      "cell_type": "code",
      "metadata": {
        "id": "Hxzby_HLJkq4"
      },
      "source": [
        "x = [i for i in range(num_epochs)]"
      ],
      "execution_count": null,
      "outputs": []
    },
    {
      "cell_type": "code",
      "metadata": {
        "outputId": "6899bdb9-3ccd-440e-dd73-aa0971c51b12",
        "id": "5zGro4L4Jkq5",
        "colab": {
          "base_uri": "https://localhost:8080/",
          "height": 312
        }
      },
      "source": [
        "plt.plot(x, acc)\n",
        "plt.plot(x, val_acc)\n",
        "plt.title('accuracy versus num epoch')\n",
        "plt.xlabel('epoch')\n",
        "plt.ylabel('accuracy')\n",
        "plt.legend(['training acc', 'val acc'])\n",
        ";"
      ],
      "execution_count": null,
      "outputs": [
        {
          "output_type": "execute_result",
          "data": {
            "text/plain": [
              "''"
            ]
          },
          "metadata": {
            "tags": []
          },
          "execution_count": 142
        },
        {
          "output_type": "display_data",
          "data": {
            "image/png": "[encoded data removed]",
            "text/plain": [
              "<Figure size 432x288 with 1 Axes>"
            ]
          },
          "metadata": {
            "tags": [],
            "needs_background": "light"
          }
        }
      ]
    },
    {
      "cell_type": "code",
      "metadata": {
        "outputId": "5e185823-f0e1-4b02-c6ba-9f5609ff0c99",
        "id": "bHiWEeO5Jkq7",
        "colab": {
          "base_uri": "https://localhost:8080/",
          "height": 312
        }
      },
      "source": [
        "plt.plot(x, loss)\n",
        "plt.plot(x, val_loss)\n",
        "plt.title('loss versus num epoch')\n",
        "plt.xlabel('epoch')\n",
        "plt.ylabel('loss')\n",
        "plt.legend(['training loss', 'val loss'])\n",
        ";"
      ],
      "execution_count": null,
      "outputs": [
        {
          "output_type": "execute_result",
          "data": {
            "text/plain": [
              "''"
            ]
          },
          "metadata": {
            "tags": []
          },
          "execution_count": 143
        },
        {
          "output_type": "display_data",
          "data": {
            "image/png": "[encoded data removed]",
            "text/plain": [
              "<Figure size 432x288 with 1 Axes>"
            ]
          },
          "metadata": {
            "tags": [],
            "needs_background": "light"
          }
        }
      ]
    },
    {
      "cell_type": "code",
      "metadata": {
        "id": "Pn1ViAv2KXqC"
      },
      "source": [
        "model_path = \"/content/drive/My Drive/data/trained_models/\"\n",
        "model.load_weights(model_path + 'GRU/epoch_2.h5')"
      ],
      "execution_count": null,
      "outputs": []
    },
    {
      "cell_type": "code",
      "metadata": {
        "id": "C2q_kWEmKXqG"
      },
      "source": [
        "# measure validation accuracy\n",
        "val_loss, val_acc = model.evaluate_generator(data_generator(val_X_seq, val_y, batch_size), steps=100)"
      ],
      "execution_count": null,
      "outputs": []
    },
    {
      "cell_type": "code",
      "metadata": {
        "outputId": "f41053fa-4610-4670-a8e1-c07e1c2e73a0",
        "id": "NWNy0QepKXqI",
        "colab": {
          "base_uri": "https://localhost:8080/",
          "height": 34
        }
      },
      "source": [
        "val_loss"
      ],
      "execution_count": null,
      "outputs": [
        {
          "output_type": "execute_result",
          "data": {
            "text/plain": [
              "0.5817391872406006"
            ]
          },
          "metadata": {
            "tags": []
          },
          "execution_count": 146
        }
      ]
    },
    {
      "cell_type": "code",
      "metadata": {
        "outputId": "7f000281-e381-4a56-a57e-d3eac0d87404",
        "id": "-qeY9YspKXqL",
        "colab": {
          "base_uri": "https://localhost:8080/",
          "height": 34
        }
      },
      "source": [
        "val_acc"
      ],
      "execution_count": null,
      "outputs": [
        {
          "output_type": "execute_result",
          "data": {
            "text/plain": [
              "0.7786718606948853"
            ]
          },
          "metadata": {
            "tags": []
          },
          "execution_count": 147
        }
      ]
    },
    {
      "cell_type": "code",
      "metadata": {
        "id": "es40HFf-KXqN"
      },
      "source": [
        "# measure test accuracy\n",
        "test_loss, test_acc = model.evaluate_generator(data_generator(test_X_seq, test_y, batch_size), steps=100)"
      ],
      "execution_count": null,
      "outputs": []
    },
    {
      "cell_type": "code",
      "metadata": {
        "outputId": "efe0e6ae-f1b4-4cb1-b2a4-680e31d4d9d1",
        "id": "kE2HgxLHKXqQ",
        "colab": {
          "base_uri": "https://localhost:8080/",
          "height": 34
        }
      },
      "source": [
        "test_loss"
      ],
      "execution_count": null,
      "outputs": [
        {
          "output_type": "execute_result",
          "data": {
            "text/plain": [
              "0.45198923349380493"
            ]
          },
          "metadata": {
            "tags": []
          },
          "execution_count": 149
        }
      ]
    },
    {
      "cell_type": "code",
      "metadata": {
        "outputId": "e9544d8c-76aa-4e1d-8e58-b4eba990bfd3",
        "id": "uD7fLPTFKXqT",
        "colab": {
          "base_uri": "https://localhost:8080/",
          "height": 34
        }
      },
      "source": [
        "test_acc"
      ],
      "execution_count": null,
      "outputs": [
        {
          "output_type": "execute_result",
          "data": {
            "text/plain": [
              "0.7755468487739563"
            ]
          },
          "metadata": {
            "tags": []
          },
          "execution_count": 150
        }
      ]
    },
    {
      "cell_type": "markdown",
      "metadata": {
        "id": "lDhUxifKqInH"
      },
      "source": [
        "Model 4: AdaBoost (data: one hot encoding of 5000 most frequent words)"
      ]
    },
    {
      "cell_type": "code",
      "metadata": {
        "id": "OG_4g_BepnQA"
      },
      "source": [
        "from sklearn.ensemble import AdaBoostClassifier\n",
        "from sklearn.metrics import accuracy_score"
      ],
      "execution_count": null,
      "outputs": []
    },
    {
      "cell_type": "code",
      "metadata": {
        "id": "jzh05VbyW-b7"
      },
      "source": [
        "train_X_matrix = tk.texts_to_matrix(train_X)\n",
        "val_X_matrix = tk.texts_to_matrix(val_X)\n",
        "test_X_matrix = tk.texts_to_matrix(test_X)"
      ],
      "execution_count": null,
      "outputs": []
    },
    {
      "cell_type": "code",
      "metadata": {
        "id": "h6u9Ev3hXDoX",
        "outputId": "822494da-8cb0-4761-9684-b5b523126161",
        "colab": {
          "base_uri": "https://localhost:8080/",
          "height": 34
        }
      },
      "source": [
        "np.max(test_X_matrix[0])"
      ],
      "execution_count": null,
      "outputs": [
        {
          "output_type": "execute_result",
          "data": {
            "text/plain": [
              "1.0"
            ]
          },
          "metadata": {
            "tags": []
          },
          "execution_count": 55
        }
      ]
    },
    {
      "cell_type": "code",
      "metadata": {
        "id": "eQyJJTauqv6Y"
      },
      "source": [
        "#https://scikit-learn.org/stable/modules/generated/sklearn.ensemble.AdaBoostClassifier.html"
      ],
      "execution_count": null,
      "outputs": []
    },
    {
      "cell_type": "code",
      "metadata": {
        "id": "Nd2HHKaG1UrO"
      },
      "source": [
        "clf = AdaBoostClassifier(n_estimators=100, random_state=0)"
      ],
      "execution_count": null,
      "outputs": []
    },
    {
      "cell_type": "code",
      "metadata": {
        "id": "bczTrbcyXWhC",
        "outputId": "000a3e00-d0a1-4dba-ebd6-a2f828e40c40",
        "colab": {
          "base_uri": "https://localhost:8080/",
          "height": 51
        }
      },
      "source": [
        "clf.fit(train_X_matrix, train_y)"
      ],
      "execution_count": null,
      "outputs": [
        {
          "output_type": "execute_result",
          "data": {
            "text/plain": [
              "AdaBoostClassifier(algorithm='SAMME.R', base_estimator=None, learning_rate=1.0,\n",
              "                   n_estimators=100, random_state=0)"
            ]
          },
          "metadata": {
            "tags": []
          },
          "execution_count": 21
        }
      ]
    },
    {
      "cell_type": "code",
      "metadata": {
        "id": "uF5N1A01ZP2u"
      },
      "source": [
        "# model_path = \"/content/drive/My Drive/data/trained_models/\"\n",
        "# filename = 'AdaBoost/adaboost_onehot.sav'\n",
        "# pickle.dump(clf, open(model_path + filename, 'wb'))"
      ],
      "execution_count": null,
      "outputs": []
    },
    {
      "cell_type": "code",
      "metadata": {
        "id": "wgUXjGz0Zeum"
      },
      "source": [
        "model_path = \"/content/drive/My Drive/data/trained_models/\"\n",
        "filename = 'AdaBoost/adaboost_onehot.sav'\n",
        "clf = pickle.load(open(model_path + filename, 'rb'))"
      ],
      "execution_count": null,
      "outputs": []
    },
    {
      "cell_type": "code",
      "metadata": {
        "id": "re3-8Y89Yers"
      },
      "source": [
        "val_acc = accuracy_score(val_y, clf.predict(val_X_matrix))"
      ],
      "execution_count": null,
      "outputs": []
    },
    {
      "cell_type": "code",
      "metadata": {
        "id": "_AAxP_wEsVyU",
        "outputId": "7b3c5615-c71f-475b-dcf7-08b396c9023d",
        "colab": {
          "base_uri": "https://localhost:8080/",
          "height": 34
        }
      },
      "source": [
        "val_acc"
      ],
      "execution_count": null,
      "outputs": [
        {
          "output_type": "execute_result",
          "data": {
            "text/plain": [
              "0.7051613628696728"
            ]
          },
          "metadata": {
            "tags": []
          },
          "execution_count": 29
        }
      ]
    },
    {
      "cell_type": "code",
      "metadata": {
        "id": "T2pkkQCWYe5r"
      },
      "source": [
        "test_acc = accuracy_score(test_y, clf.predict(test_X_matrix))"
      ],
      "execution_count": null,
      "outputs": []
    },
    {
      "cell_type": "code",
      "metadata": {
        "id": "z0bb5u7Zh0_L",
        "outputId": "e0cdefd0-220e-4d4f-9194-257b8f5b8181",
        "colab": {
          "base_uri": "https://localhost:8080/",
          "height": 34
        }
      },
      "source": [
        "test_acc"
      ],
      "execution_count": null,
      "outputs": [
        {
          "output_type": "execute_result",
          "data": {
            "text/plain": [
              "0.7040049476189584"
            ]
          },
          "metadata": {
            "tags": []
          },
          "execution_count": 31
        }
      ]
    },
    {
      "cell_type": "markdown",
      "metadata": {
        "id": "Dv3fzp0QiCVY"
      },
      "source": [
        "Model 5: AdaBoost (data: word count of 5000 most frequent words)"
      ]
    },
    {
      "cell_type": "code",
      "metadata": {
        "id": "q2G-_r-wiAOp"
      },
      "source": [
        "from sklearn.ensemble import AdaBoostClassifier\n",
        "from sklearn.metrics import accuracy_score"
      ],
      "execution_count": null,
      "outputs": []
    },
    {
      "cell_type": "code",
      "metadata": {
        "id": "AdPh2gqvYfHW"
      },
      "source": [
        "train_X_matrix = tk.texts_to_matrix(train_X, mode='count')\n",
        "val_X_matrix = tk.texts_to_matrix(val_X, mode='count')\n",
        "test_X_matrix = tk.texts_to_matrix(test_X, mode='count')"
      ],
      "execution_count": null,
      "outputs": []
    },
    {
      "cell_type": "code",
      "metadata": {
        "id": "T2NSqu3EiMSw",
        "outputId": "bd38256b-cac4-429d-a1b9-3c368a690288",
        "colab": {
          "base_uri": "https://localhost:8080/",
          "height": 34
        }
      },
      "source": [
        "np.sum(train_X_matrix[0])"
      ],
      "execution_count": null,
      "outputs": [
        {
          "output_type": "execute_result",
          "data": {
            "text/plain": [
              "104.0"
            ]
          },
          "metadata": {
            "tags": []
          },
          "execution_count": 16
        }
      ]
    },
    {
      "cell_type": "code",
      "metadata": {
        "id": "w_WROw8Jt980",
        "outputId": "9f3da01f-cff8-4ff0-8bf7-9452753bcfa6",
        "colab": {
          "base_uri": "https://localhost:8080/",
          "height": 34
        }
      },
      "source": [
        "np.max(train_X_matrix[0])"
      ],
      "execution_count": null,
      "outputs": [
        {
          "output_type": "execute_result",
          "data": {
            "text/plain": [
              "12.0"
            ]
          },
          "metadata": {
            "tags": []
          },
          "execution_count": 17
        }
      ]
    },
    {
      "cell_type": "code",
      "metadata": {
        "id": "DQdOSTd3iMc7"
      },
      "source": [
        "clf = AdaBoostClassifier(n_estimators=100, random_state=0)"
      ],
      "execution_count": null,
      "outputs": []
    },
    {
      "cell_type": "code",
      "metadata": {
        "id": "pehHZSTpiPy6",
        "outputId": "74226beb-296c-4b79-f877-3cd979f5d53d",
        "colab": {
          "base_uri": "https://localhost:8080/",
          "height": 51
        }
      },
      "source": [
        "clf.fit(train_X_matrix, train_y)"
      ],
      "execution_count": null,
      "outputs": [
        {
          "output_type": "execute_result",
          "data": {
            "text/plain": [
              "AdaBoostClassifier(algorithm='SAMME.R', base_estimator=None, learning_rate=1.0,\n",
              "                   n_estimators=100, random_state=0)"
            ]
          },
          "metadata": {
            "tags": []
          },
          "execution_count": 19
        }
      ]
    },
    {
      "cell_type": "code",
      "metadata": {
        "id": "XxQLxGl0iP96"
      },
      "source": [
        "model_path = \"/content/drive/My Drive/data/trained_models/\"\n",
        "filename = 'AdaBoost/adaboost_wordcounts.sav'\n",
        "pickle.dump(clf, open(model_path + filename, 'wb'))"
      ],
      "execution_count": null,
      "outputs": []
    },
    {
      "cell_type": "code",
      "metadata": {
        "id": "46cfvEcSiQLz"
      },
      "source": [
        "# model_path = \"/content/drive/My Drive/data/trained_models/\"\n",
        "# filename = 'AdaBoost/adaboost_wordcounts.sav'\n",
        "# clf = pickle.load(open(model_path + filename, 'rb'))"
      ],
      "execution_count": null,
      "outputs": []
    },
    {
      "cell_type": "code",
      "metadata": {
        "id": "MUiEFEU5iTwo"
      },
      "source": [
        "val_acc = accuracy_score(val_y, clf.predict(val_X_matrix))"
      ],
      "execution_count": null,
      "outputs": []
    },
    {
      "cell_type": "code",
      "metadata": {
        "id": "3542jWyQukN6",
        "outputId": "3b10482a-7572-4bbf-daeb-b685f53de98a",
        "colab": {
          "base_uri": "https://localhost:8080/",
          "height": 34
        }
      },
      "source": [
        "val_acc"
      ],
      "execution_count": null,
      "outputs": [
        {
          "output_type": "execute_result",
          "data": {
            "text/plain": [
              "0.7023689043817235"
            ]
          },
          "metadata": {
            "tags": []
          },
          "execution_count": 24
        }
      ]
    },
    {
      "cell_type": "code",
      "metadata": {
        "id": "zkMHIoVGiT-f"
      },
      "source": [
        "test_acc = accuracy_score(test_y, clf.predict(test_X_matrix))"
      ],
      "execution_count": null,
      "outputs": []
    },
    {
      "cell_type": "code",
      "metadata": {
        "id": "NkZJrutkiUKC",
        "outputId": "a2da3a92-0f81-400f-86ca-e0478bdc3c35",
        "colab": {
          "base_uri": "https://localhost:8080/",
          "height": 34
        }
      },
      "source": [
        "test_acc"
      ],
      "execution_count": null,
      "outputs": [
        {
          "output_type": "execute_result",
          "data": {
            "text/plain": [
              "0.7031053805356172"
            ]
          },
          "metadata": {
            "tags": []
          },
          "execution_count": 26
        }
      ]
    },
    {
      "cell_type": "markdown",
      "metadata": {
        "id": "RWMoxwODHUsg"
      },
      "source": [
        "Model 6: SVM"
      ]
    },
    {
      "cell_type": "code",
      "metadata": {
        "id": "cX4SRE0HHpyr"
      },
      "source": [
        "from sklearn.svm import LinearSVC\n",
        "from sklearn.metrics import accuracy_score"
      ],
      "execution_count": null,
      "outputs": []
    },
    {
      "cell_type": "code",
      "metadata": {
        "id": "ZaeR76WgHX4d"
      },
      "source": [
        "train_X_matrix = tk.texts_to_matrix(train_X)\n",
        "val_X_matrix = tk.texts_to_matrix(val_X)\n",
        "test_X_matrix = tk.texts_to_matrix(test_X)"
      ],
      "execution_count": null,
      "outputs": []
    },
    {
      "cell_type": "code",
      "metadata": {
        "id": "pdfZZD0_HYDY",
        "outputId": "fa937bee-05ec-41c4-ab62-6a70f0116055",
        "colab": {
          "base_uri": "https://localhost:8080/",
          "height": 34
        }
      },
      "source": [
        "np.max(train_X_matrix[0])"
      ],
      "execution_count": null,
      "outputs": [
        {
          "output_type": "execute_result",
          "data": {
            "text/plain": [
              "1.0"
            ]
          },
          "metadata": {
            "tags": []
          },
          "execution_count": 18
        }
      ]
    },
    {
      "cell_type": "code",
      "metadata": {
        "id": "L6nxZMwbHYrG"
      },
      "source": [
        "clf = LinearSVC(random_state=1)"
      ],
      "execution_count": null,
      "outputs": []
    },
    {
      "cell_type": "code",
      "metadata": {
        "id": "UwsHI6tLHY37",
        "outputId": "49cfff04-7f7c-498f-d72e-0d1188771fde",
        "colab": {
          "base_uri": "https://localhost:8080/",
          "height": 119
        }
      },
      "source": [
        "clf.fit(train_X_matrix, train_y)"
      ],
      "execution_count": null,
      "outputs": [
        {
          "output_type": "stream",
          "text": [
            "/usr/local/lib/python3.6/dist-packages/sklearn/svm/_base.py:947: ConvergenceWarning: Liblinear failed to converge, increase the number of iterations.\n",
            "  \"the number of iterations.\", ConvergenceWarning)\n"
          ],
          "name": "stderr"
        },
        {
          "output_type": "execute_result",
          "data": {
            "text/plain": [
              "LinearSVC(C=1.0, class_weight=None, dual=True, fit_intercept=True,\n",
              "          intercept_scaling=1, loss='squared_hinge', max_iter=1000,\n",
              "          multi_class='ovr', penalty='l2', random_state=1, tol=0.0001,\n",
              "          verbose=0)"
            ]
          },
          "metadata": {
            "tags": []
          },
          "execution_count": 20
        }
      ]
    },
    {
      "cell_type": "code",
      "metadata": {
        "id": "c-hLCuanHZCz"
      },
      "source": [
        "# model_path = \"/content/drive/My Drive/data/trained_models/\"\n",
        "# filename = 'SVM/SVM.sav'\n",
        "# pickle.dump(clf, open(model_path + filename, 'wb'))"
      ],
      "execution_count": null,
      "outputs": []
    },
    {
      "cell_type": "code",
      "metadata": {
        "id": "Yo7Ydyu4IKHP"
      },
      "source": [
        "model_path = \"/content/drive/My Drive/data/trained_models/\"\n",
        "filename = 'SVM/SVM.sav'\n",
        "clf = pickle.load(open(model_path + filename, 'rb'))"
      ],
      "execution_count": null,
      "outputs": []
    },
    {
      "cell_type": "code",
      "metadata": {
        "id": "MSJeBMTxIKVZ"
      },
      "source": [
        "val_acc = accuracy_score(val_y, clf.predict(val_X_matrix))"
      ],
      "execution_count": null,
      "outputs": []
    },
    {
      "cell_type": "code",
      "metadata": {
        "id": "-Tyxa-lZIKgk",
        "outputId": "a815dc28-d6bf-4f9b-8c93-6bf16a941199",
        "colab": {
          "base_uri": "https://localhost:8080/",
          "height": 34
        }
      },
      "source": [
        "val_acc"
      ],
      "execution_count": null,
      "outputs": [
        {
          "output_type": "execute_result",
          "data": {
            "text/plain": [
              "0.7535889651036396"
            ]
          },
          "metadata": {
            "tags": []
          },
          "execution_count": 17
        }
      ]
    },
    {
      "cell_type": "code",
      "metadata": {
        "id": "qDZ1Iaw6HZMb"
      },
      "source": [
        "test_acc = accuracy_score(test_y, clf.predict(test_X_matrix))"
      ],
      "execution_count": null,
      "outputs": []
    },
    {
      "cell_type": "code",
      "metadata": {
        "id": "jy1B-PJXHZUj",
        "outputId": "3b321479-33a0-41a4-df1e-25387dec04cf",
        "colab": {
          "base_uri": "https://localhost:8080/",
          "height": 34
        }
      },
      "source": [
        "test_acc"
      ],
      "execution_count": null,
      "outputs": [
        {
          "output_type": "execute_result",
          "data": {
            "text/plain": [
              "0.7531063175846624"
            ]
          },
          "metadata": {
            "tags": []
          },
          "execution_count": 19
        }
      ]
    },
    {
      "cell_type": "markdown",
      "metadata": {
        "id": "2LWFBx-tVOdk"
      },
      "source": [
        "Model 7: Bert Model"
      ]
    },
    {
      "cell_type": "code",
      "metadata": {
        "id": "VSZ83t6wWFNn"
      },
      "source": [
        "#https://towardsdatascience.com/bert-text-classification-in-3-lines-of-code-using-keras-264db7e7a358"
      ],
      "execution_count": null,
      "outputs": []
    },
    {
      "cell_type": "code",
      "metadata": {
        "id": "XTEl234Jm_R4"
      },
      "source": [
        "# To preprocess data\n",
        "\n",
        "# import json\n",
        "# import pandas as pd\n",
        "# from sklearn.utils import shuffle\n",
        "# from tqdm import tqdm\n",
        "# import numpy as np\n",
        "\n",
        "# import io\n",
        "# import os\n",
        "\n",
        "# data_path = \"yelp_review_training_dataset.jsonl\"\n",
        "# tweets = []\n",
        "# for line in open(data_path, 'r'):\n",
        "#     tweets.append(json.loads(line))\n",
        "\n",
        "# df = pd.DataFrame(tweets)\n",
        "# df = df.drop(columns=['review_id'])\n",
        "\n",
        "# df = shuffle(df, random_state=1)\n",
        "# train, validation, test = df.iloc[:int(len(df) * 0.8)], df.iloc[int(len(df) * 0.8) : int(len(df) * 0.9)], df.iloc[int(len(df) * 0.9):]\n",
        "\n",
        "# def preprocess_bert(dataset, out_path):\n",
        "# \tfor i in tqdm(range(len(dataset))):\n",
        "# \t\twith open(out_path + str(i) + '.txt', 'w+') as f:\n",
        "# \t\t\tf.write(dataset[i][0])\n",
        "\n",
        "# # Divide training set\n",
        "# for num_class in range(1, 6):\n",
        "# \tprint(num_class)\n",
        "# \tpath = 'bert_data/train/' + str(num_class) + '/'\n",
        "# \tpreprocess_bert(np.array(train.query(\"stars == \" + str(float(num_class)))), path)\n",
        "\n",
        "# # Divide val set\n",
        "# for num_class in range(1, 6):\n",
        "# \tprint(num_class)\n",
        "# \tpath = 'bert_data/val/' + str(num_class) + '/'\n",
        "# \tpreprocess_bert(np.array(validation.query(\"stars == \" + str(float(num_class)))), path)\n",
        "\n",
        "# # Divide test set\n",
        "# for num_class in range(1, 6):\n",
        "# \tprint(num_class)\n",
        "# \tpath = 'bert_data/test/' + str(num_class) + '/'\n",
        "# \tpreprocess_bert(np.array(test.query(\"stars == \" + str(float(num_class)))), path)"
      ],
      "execution_count": null,
      "outputs": []
    },
    {
      "cell_type": "code",
      "metadata": {
        "id": "j9UsKaziJ5i6"
      },
      "source": [
        "# To train Bert model\n",
        "\n",
        "(X_train, y_train), (X_val, y_val), preproc = text.texts_from_folder('bert_data', maxlen=5, \n",
        "                                                                      preprocess_mode='bert',\n",
        "                                                                      train_test_names=['train', 'val'],\n",
        "                                                                      classes=['1', '2', '3', '4', '5'])\n",
        "\n",
        "print('data ready')\n",
        "\n",
        "model = text.text_classifier('bert', train_data=(X_train, y_train), preproc=preproc)\n",
        "learner = ktrain.get_learner(model, train_data=(X_train, y_train), batch_size=6)\n",
        "\n",
        "print('model ready')\n",
        "\n",
        "learner.fit_onecycle(2e-5, 1)\n",
        "\n",
        "predictor = ktrain.get_predictor(learner.model, preproc)\n",
        "predictor.save('bert_model_epoch_1')"
      ],
      "execution_count": null,
      "outputs": []
    },
    {
      "cell_type": "code",
      "metadata": {
        "id": "ULMv8JrCI6_N"
      },
      "source": [
        "# reload the predictor\n",
        "reloaded_predictor = ktrain.load_predictor('/tmp/my_predictor')\n",
        "# make a prediction on the same document to verify it still works\n",
        "reloaded_predictor.predict(test_b.data[0:1])\n",
        "\n",
        "\n",
        "val = learner.validate(val_data=(X_val, y_val), class_names=['1', '2', '3', '4', '5'])"
      ],
      "execution_count": null,
      "outputs": []
    },
    {
      "cell_type": "code",
      "metadata": {
        "id": "cWUVrSZvmyxC"
      },
      "source": [
        ""
      ],
      "execution_count": null,
      "outputs": []
    },
    {
      "cell_type": "code",
      "metadata": {
        "id": "nTFjgcBueWJk"
      },
      "source": [
        ""
      ],
      "execution_count": null,
      "outputs": []
    },
    {
      "cell_type": "markdown",
      "metadata": {
        "id": "LwEB11KCXdFU"
      },
      "source": [
        "Model 8: Ensemble"
      ]
    },
    {
      "cell_type": "code",
      "metadata": {
        "id": "lJpGsrdi70CK"
      },
      "source": [
        "model_path = \"/content/drive/My Drive/data/trained_models/\""
      ],
      "execution_count": null,
      "outputs": []
    },
    {
      "cell_type": "code",
      "metadata": {
        "id": "IFrv3OAN8V7U"
      },
      "source": [
        "# LSTM\n",
        "model_1 = models.Sequential()\n",
        "model_1.add(layers.Embedding(50000, 200, input_length=max_len))\n",
        "model_1.add(layers.Dropout(0.5))\n",
        "model_1.add(layers.LSTM(1024, dropout=0.3, recurrent_dropout=0.3))\n",
        "model_1.add(layers.Dense(256, activation='relu'))\n",
        "model_1.add(layers.Dense(5, activation='softmax'))\n",
        "\n",
        "model_1.load_weights(model_path + 'LSTM/epoch_11.h5')"
      ],
      "execution_count": null,
      "outputs": []
    },
    {
      "cell_type": "code",
      "metadata": {
        "id": "HGJ9Ox7O-2nz"
      },
      "source": [
        "pred = model_1.predict(test_X_seq)"
      ],
      "execution_count": null,
      "outputs": []
    },
    {
      "cell_type": "code",
      "metadata": {
        "id": "Zq5aNZhlEtCB"
      },
      "source": [
        "pred = np.argmax(pred, axis=1) + 1"
      ],
      "execution_count": null,
      "outputs": []
    },
    {
      "cell_type": "code",
      "metadata": {
        "id": "U0gzqH-2EsrO",
        "outputId": "c3cad596-3499-470d-f45b-096381fe766a",
        "colab": {
          "base_uri": "https://localhost:8080/",
          "height": 34
        }
      },
      "source": [
        "np.sum(pred == test_y) / len(pred)"
      ],
      "execution_count": null,
      "outputs": [
        {
          "output_type": "execute_result",
          "data": {
            "text/plain": [
              "0.7838602672463877"
            ]
          },
          "metadata": {
            "tags": []
          },
          "execution_count": 25
        }
      ]
    },
    {
      "cell_type": "code",
      "metadata": {
        "id": "aPdOFPJHEsVF"
      },
      "source": [
        "pred = pred.reshape((-1, 1))"
      ],
      "execution_count": null,
      "outputs": []
    },
    {
      "cell_type": "code",
      "metadata": {
        "id": "hIFySW1_LZjU"
      },
      "source": [
        "# np.savetxt(model_path + 'ensemble_pred.csv', pred, delimiter=',')"
      ],
      "execution_count": null,
      "outputs": []
    },
    {
      "cell_type": "code",
      "metadata": {
        "id": "uMkvpVakLZYJ"
      },
      "source": [
        "# pred = np.genfromtxt(model_path + 'ensemble_pred.csv', delimiter=',')"
      ],
      "execution_count": null,
      "outputs": []
    },
    {
      "cell_type": "code",
      "metadata": {
        "outputId": "688a5f77-dd06-40d5-ff37-6ebf61debe59",
        "id": "3ksG8WnY8vMh",
        "colab": {
          "base_uri": "https://localhost:8080/",
          "height": 51
        }
      },
      "source": [
        "# Conv1D\n",
        "model_2 = models.Sequential()\n",
        "model_2.add(layers.Embedding(50000, 200, input_length=max_len))\n",
        "\n",
        "model_2.add(layers.Conv1D(256, 5, padding='same', activation='relu'))\n",
        "model_2.add(layers.Conv1D(512, 5, padding='same', activation='relu'))\n",
        "model_2.add(layers.MaxPooling1D(stride=2))\n",
        "\n",
        "model_2.add(layers.Conv1D(1024, 5, padding='same', activation='relu'))\n",
        "model_2.add(layers.GlobalMaxPooling1D())\n",
        "\n",
        "model_2.add(layers.Dense(512, activation='relu'))\n",
        "model_2.add(layers.Dense(128, activation='relu'))\n",
        "model_2.add(layers.Dense(5, activation='softmax'))\n",
        "\n",
        "model_2.load_weights(model_path + 'conv1d/epoch_9.h5')"
      ],
      "execution_count": null,
      "outputs": [
        {
          "output_type": "stream",
          "text": [
            "/usr/local/lib/python3.6/dist-packages/ipykernel_launcher.py:6: UserWarning: Update your `MaxPooling1D` call to the Keras 2 API: `MaxPooling1D(strides=2)`\n",
            "  \n"
          ],
          "name": "stderr"
        }
      ]
    },
    {
      "cell_type": "code",
      "metadata": {
        "id": "X1-OeqBRFnvM"
      },
      "source": [
        "tmp = model_2.predict(test_X_seq)"
      ],
      "execution_count": null,
      "outputs": []
    },
    {
      "cell_type": "code",
      "metadata": {
        "id": "Kut72ag7Fn32"
      },
      "source": [
        "tmp = np.argmax(tmp, axis=1) + 1"
      ],
      "execution_count": null,
      "outputs": []
    },
    {
      "cell_type": "code",
      "metadata": {
        "id": "izQHEDkySMBV",
        "outputId": "505630b6-1400-46c3-f38d-c07a56d01bb2",
        "colab": {
          "base_uri": "https://localhost:8080/",
          "height": 34
        }
      },
      "source": [
        "np.sum(tmp == test_y) / len(tmp)"
      ],
      "execution_count": null,
      "outputs": [
        {
          "output_type": "execute_result",
          "data": {
            "text/plain": [
              "0.7766824715605615"
            ]
          },
          "metadata": {
            "tags": []
          },
          "execution_count": 33
        }
      ]
    },
    {
      "cell_type": "code",
      "metadata": {
        "id": "BwzkQr3_SOYN"
      },
      "source": [
        "tmp = tmp.reshape((-1, 1))"
      ],
      "execution_count": null,
      "outputs": []
    },
    {
      "cell_type": "code",
      "metadata": {
        "id": "UFNVQrI6Fn_g"
      },
      "source": [
        "pred = np.concatenate((pred, tmp), axis=1)"
      ],
      "execution_count": null,
      "outputs": []
    },
    {
      "cell_type": "code",
      "metadata": {
        "id": "My0XU5-RSIOO"
      },
      "source": [
        "# np.savetxt(model_path + 'ensemble_pred.csv', pred, delimiter=',')"
      ],
      "execution_count": null,
      "outputs": []
    },
    {
      "cell_type": "code",
      "metadata": {
        "id": "hLqN95CLSIOP"
      },
      "source": [
        "# pred = np.genfromtxt(model_path + 'ensemble_pred.csv', delimiter=',')"
      ],
      "execution_count": null,
      "outputs": []
    },
    {
      "cell_type": "code",
      "metadata": {
        "id": "orhT_olx9S6D"
      },
      "source": [
        "# GRU\n",
        "model_3 = models.Sequential()\n",
        "model_3.add(layers.Embedding(50000, 200, input_length=max_len))\n",
        "model_3.add(layers.GRU(256))\n",
        "model_3.add(layers.Dense(256, activation='tanh'))\n",
        "model_3.add(layers.Dense(128, activation='tanh'))\n",
        "model_3.add(layers.Dense(5, activation='softmax'))\n",
        "\n",
        "model_3.load_weights(model_path + 'GRU/epoch_2.h5')"
      ],
      "execution_count": null,
      "outputs": []
    },
    {
      "cell_type": "code",
      "metadata": {
        "id": "YBkk99EsSjFw"
      },
      "source": [
        "tmp = model_3.predict(test_X_seq)"
      ],
      "execution_count": null,
      "outputs": []
    },
    {
      "cell_type": "code",
      "metadata": {
        "id": "x5A8hDUvSjFy"
      },
      "source": [
        "tmp = np.argmax(tmp, axis=1) + 1"
      ],
      "execution_count": null,
      "outputs": []
    },
    {
      "cell_type": "code",
      "metadata": {
        "id": "WyzB1rxzSjF0",
        "outputId": "ab7b3a1c-83fb-4ce8-c145-a81984ef0ef7",
        "colab": {
          "base_uri": "https://localhost:8080/",
          "height": 34
        }
      },
      "source": [
        "np.sum(tmp == test_y) / len(tmp)"
      ],
      "execution_count": null,
      "outputs": [
        {
          "output_type": "execute_result",
          "data": {
            "text/plain": [
              "0.7791187990779438"
            ]
          },
          "metadata": {
            "tags": []
          },
          "execution_count": 43
        }
      ]
    },
    {
      "cell_type": "code",
      "metadata": {
        "id": "iuO-viNmSjF3"
      },
      "source": [
        "tmp = tmp.reshape((-1, 1))"
      ],
      "execution_count": null,
      "outputs": []
    },
    {
      "cell_type": "code",
      "metadata": {
        "id": "cIwayYZSSjF8"
      },
      "source": [
        "pred = np.concatenate((pred, tmp), axis=1)"
      ],
      "execution_count": null,
      "outputs": []
    },
    {
      "cell_type": "code",
      "metadata": {
        "id": "oz0kQXIVSjGB"
      },
      "source": [
        "# np.savetxt(model_path + 'ensemble_nn_pred.csv', pred, delimiter=',')"
      ],
      "execution_count": null,
      "outputs": []
    },
    {
      "cell_type": "code",
      "metadata": {
        "id": "WFotVjFPSjGD"
      },
      "source": [
        "pred = np.genfromtxt(model_path + 'ensemble_pred.csv', delimiter=',')"
      ],
      "execution_count": null,
      "outputs": []
    },
    {
      "cell_type": "code",
      "metadata": {
        "id": "Lu842mLn7zZ_"
      },
      "source": [
        "# AdaBoost\n",
        "from sklearn.ensemble import AdaBoostClassifier\n",
        "\n",
        "filename = 'AdaBoost/adaboost_onehot.sav'\n",
        "model_4 = pickle.load(open(model_path + filename, 'rb'))"
      ],
      "execution_count": null,
      "outputs": []
    },
    {
      "cell_type": "code",
      "metadata": {
        "id": "eYGDmpCzVRlI"
      },
      "source": [
        "test_X_matrix = tk.texts_to_matrix(test_X, mode='count')"
      ],
      "execution_count": null,
      "outputs": []
    },
    {
      "cell_type": "code",
      "metadata": {
        "id": "MfHxPG9RVVWG"
      },
      "source": [
        "tmp = model_4.predict(test_X_matrix)"
      ],
      "execution_count": null,
      "outputs": []
    },
    {
      "cell_type": "code",
      "metadata": {
        "id": "sCPtt4dSVVNQ"
      },
      "source": [
        "tmp = tmp.reshape((-1, 1))"
      ],
      "execution_count": null,
      "outputs": []
    },
    {
      "cell_type": "code",
      "metadata": {
        "id": "K_lr5rqnVVDY"
      },
      "source": [
        "pred = np.concatenate((pred, tmp), axis=1)"
      ],
      "execution_count": null,
      "outputs": []
    },
    {
      "cell_type": "code",
      "metadata": {
        "id": "pR1L3drR99I9"
      },
      "source": [
        "# SVM\n",
        "from sklearn.svm import LinearSVC\n",
        "\n",
        "filename = 'SVM/SVM.sav'\n",
        "model_5 = pickle.load(open(model_path + filename, 'rb'))"
      ],
      "execution_count": null,
      "outputs": []
    },
    {
      "cell_type": "code",
      "metadata": {
        "id": "v8ayBOhwBXtg"
      },
      "source": [
        "test_X_matrix = tk.texts_to_matrix(test_X, mode='count')"
      ],
      "execution_count": null,
      "outputs": []
    },
    {
      "cell_type": "code",
      "metadata": {
        "id": "pvsmlgYb7zJg"
      },
      "source": [
        "tmp = model_5.predict(test_X_matrix)"
      ],
      "execution_count": null,
      "outputs": []
    },
    {
      "cell_type": "code",
      "metadata": {
        "id": "degMvv7lWjlz",
        "outputId": "ff02151b-7507-4138-e236-bc6d3cbae589",
        "colab": {
          "base_uri": "https://localhost:8080/",
          "height": 34
        }
      },
      "source": [
        "np.sum(tmp == test_y) / len(tmp)"
      ],
      "execution_count": null,
      "outputs": [
        {
          "output_type": "execute_result",
          "data": {
            "text/plain": [
              "0.7349275661088102"
            ]
          },
          "metadata": {
            "tags": []
          },
          "execution_count": 85
        }
      ]
    },
    {
      "cell_type": "code",
      "metadata": {
        "id": "tVI_W79jWHr3"
      },
      "source": [
        "pred = np.concatenate((pred, tmp), axis=1)"
      ],
      "execution_count": null,
      "outputs": []
    },
    {
      "cell_type": "code",
      "metadata": {
        "id": "TDNQR_cE-GBq"
      },
      "source": [
        "# np.savetxt(model_path + 'total_ensemble_pred.csv', pred, delimiter=',')"
      ],
      "execution_count": null,
      "outputs": []
    },
    {
      "cell_type": "code",
      "metadata": {
        "id": "g3Qxjna2-GKC"
      },
      "source": [
        "pred = np.genfromtxt(model_path + 'ensemble_pred.csv', delimiter=',')"
      ],
      "execution_count": null,
      "outputs": []
    },
    {
      "cell_type": "code",
      "metadata": {
        "id": "iSaHrSu-W-RC",
        "outputId": "d1c88a2e-359c-46e6-8d05-c16abb8a95b2",
        "colab": {
          "base_uri": "https://localhost:8080/",
          "height": 102
        }
      },
      "source": [
        "# Test accuracy of each model before ensembling\n",
        "for i in range(5):\n",
        "    print('model ' + str(i) + ': ' + str(np.sum(pred[:,i] == test_y) / len(tmp)))"
      ],
      "execution_count": null,
      "outputs": [
        {
          "output_type": "stream",
          "text": [
            "model 0: 0.7838602672463877\n",
            "model 1: 0.7766824715605615\n",
            "model 2: 0.7791187990779438\n",
            "model 3: 0.7040049476189584\n",
            "model 4: 0.7349275661088102\n"
          ],
          "name": "stdout"
        }
      ]
    },
    {
      "cell_type": "code",
      "metadata": {
        "id": "WH6lpdaW-GR9",
        "outputId": "1d5be081-0e38-4744-ddfa-680699557962",
        "colab": {
          "base_uri": "https://localhost:8080/",
          "height": 34
        }
      },
      "source": [
        "ensemble_1 = np.round(np.mean(pred, axis=1))\n",
        "print('ensemble_1: ' + str(np.sum(ensemble_1 == test_y) / len(ensemble_1)))"
      ],
      "execution_count": null,
      "outputs": [
        {
          "output_type": "stream",
          "text": [
            "ensemble_1: 0.741561873348451\n"
          ],
          "name": "stdout"
        }
      ]
    },
    {
      "cell_type": "code",
      "metadata": {
        "id": "sTnAd5F6XaGT",
        "outputId": "f8d6cd98-6561-42b0-f260-5eccd7a669ca",
        "colab": {
          "base_uri": "https://localhost:8080/",
          "height": 34
        }
      },
      "source": [
        "from scipy.stats import mode as mode\n",
        "ensemble_2 = np.array(mode(pred, axis=1))[0].reshape(-1)\n",
        "print('ensemble_2: ' + str(np.sum(ensemble_2 == test_y) / len(ensemble_2)))"
      ],
      "execution_count": null,
      "outputs": [
        {
          "output_type": "stream",
          "text": [
            "ensemble_2: 0.7865027455537023\n"
          ],
          "name": "stdout"
        }
      ]
    },
    {
      "cell_type": "code",
      "metadata": {
        "id": "aGuKT8UqYKXc",
        "outputId": "8c172a3d-ec54-4d02-de5d-176168031892",
        "colab": {
          "base_uri": "https://localhost:8080/",
          "height": 34
        }
      },
      "source": [
        "# ensemble_3 = np.min(pred, axis=1)\n",
        "# print('ensemble_3: ' + str(np.sum(ensemble_3 == test_y) / len(ensemble_3)))"
      ],
      "execution_count": null,
      "outputs": [
        {
          "output_type": "stream",
          "text": [
            "ensemble_3: 0.7314792256226691\n"
          ],
          "name": "stdout"
        }
      ]
    }
  ]
}